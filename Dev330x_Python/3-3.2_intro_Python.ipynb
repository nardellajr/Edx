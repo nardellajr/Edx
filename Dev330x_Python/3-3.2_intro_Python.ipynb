{
 "cells": [
  {
   "cell_type": "markdown",
   "metadata": {},
   "source": [
    "# Section 3.2: Files\n",
    "* os.remove, os.unlink\n",
    "* os.path.exists, os.path.isdir, os.path.isfile\n",
    "* `with`\n",
    "\n",
    "### Students will be able to:\n",
    "* Delete files\n",
    "* Check that a file exists\n",
    "* Check if a path is a file or directory\n",
    "* Handle file exceptions\n",
    "* Use `with` statement close an open file after catching an exception"
   ]
  },
  {
   "cell_type": "markdown",
   "metadata": {},
   "source": [
    "---\n",
    "<font size=\"6\" color=\"#00A0B2\"  face=\"verdana\"> <B>Concepts</B></font>  \n",
    "\n",
    "## Deleting Files\n",
    "\n",
    "[![view video](https://iajupyterprodblobs.blob.core.windows.net/imagecontainer/common/play_video.png)](https://www.youtube.com/watch?v=qSYMdOq_96g)\n",
    "\n",
    "In module 1 you explored the `os` module and used some of its methods to interact with the file system. You changed the working directory, listed the content of a path, created new directories, removed directories, and renamed files and directories. In addition to these utilities, Python's `os` module allows you to remove specific files using the `os.remove(path)` or `os.unlink(path)` functions. Both functions are semantically identical; however, their functionality slightly differs depending on the platform running your program. For now, we will consider them equivalent and use `os.remove(path)` to delete a file."
   ]
  },
  {
   "cell_type": "markdown",
   "metadata": {},
   "source": [
    "---\n",
    "<font size=\"6\" color=\"#00A0B2\"  face=\"verdana\"> <B>Examples</B></font>\n",
    "\n",
    "### Removing a file"
   ]
  },
  {
   "cell_type": "code",
   "execution_count": 2,
   "metadata": {},
   "outputs": [
    {
     "name": "stdout",
     "output_type": "stream",
     "text": [
      "/home/nbuser/library\n",
      "Content of \"parent_dir\" after creating the file:\n",
      "['parent_leaf.txt', 'tmp_file_to_be_deleted.txt', 'child1_dir', 'randoms_directory', 'text_file.txt', 'child2_dir']\n",
      "\n",
      "Content of \"parent_dir\" after removing the file\n",
      "['parent_leaf.txt', 'child1_dir', 'randoms_directory', 'text_file.txt', 'child2_dir']\n"
     ]
    }
   ],
   "source": [
    "import os\n",
    "\n",
    "print(os.getcwd())\n",
    "\n",
    "# Create a file to be deleted\n",
    "file_path = \"parent_dir/tmp_file_to_be_deleted.txt\"\n",
    "f = open(file_path, 'w')\n",
    "f.close()\n",
    "\n",
    "# list the content of parent_dir\n",
    "print('Content of \"parent_dir\" after creating the file:')\n",
    "print(os.listdir(\"parent_dir\"))\n",
    "print()\n",
    "\n",
    "# delete the file\n",
    "os.remove(file_path)\n",
    "\n",
    "# list the content of parent_dir\n",
    "print('Content of \"parent_dir\" after removing the file')\n",
    "print(os.listdir(\"parent_dir\"))\n"
   ]
  },
  {
   "cell_type": "markdown",
   "metadata": {},
   "source": [
    "---\n",
    "<font size=\"6\" color=\"#B24C00\"  face=\"verdana\"> <B>Task 1</B></font>"
   ]
  },
  {
   "cell_type": "markdown",
   "metadata": {},
   "source": [
    "## Setting Up the Environment (no coding required)\n",
    "This code segment creates a directory named `files_exercises` that contains five subdirectories named `dir_1`, `dir_2`, ...`dir_5` and 100 text files named sequentially from 0 to 99. The first line of each text file is a random number from 1000 to 9999."
   ]
  },
  {
   "cell_type": "code",
   "execution_count": 23,
   "metadata": {},
   "outputs": [
    {
     "name": "stdout",
     "output_type": "stream",
     "text": [
      "Changing working dir to parent_dir\n",
      "Current working directory: E:\\Work\\git\\Edx\\Dev330x_Python\\parent_dir\n",
      "Removing \"files_exercises\"\n",
      "Making \"files_exercises\"\n",
      "Changing working directory to \"files_exercises\"\n",
      "Current working directory: E:\\Work\\git\\Edx\\Dev330x_Python\\parent_dir\\files_exercises\n",
      "Creating 100 text files\n",
      "Creating 5 directories\n",
      "Environment setup completed!\n"
     ]
    }
   ],
   "source": [
    "# Do not modify or add anything to this code segment.\n",
    "# This code segment must be run before attempting any of the tasks in this lesson.\n",
    "# It prepares the directories and files necessary to complete the tasks.\n",
    "\n",
    "import os, random, shutil\n",
    "\n",
    "# Navigate to `parent_dir` directory (if not already in it)\n",
    "current_path = os.getcwd()\n",
    "if (\"parent_dir\" in current_path):\n",
    "    nb_path = current_path.split(\"parent_dir\")[0]\n",
    "else:\n",
    "    nb_path = current_path\n",
    "print(\"Changing working dir to parent_dir\")\n",
    "os.chdir(os.path.join(nb_path,'parent_dir'))\n",
    "print(\"Current working directory:\", os.getcwd())\n",
    "\n",
    "# Remove the `files_exercises` directory (if it exists)\n",
    "if('files_exercises' in os.listdir()):\n",
    "    print('Removing \"files_exercises\"')\n",
    "    shutil.rmtree('files_exercises')\n",
    "    \n",
    "# Create a new directory called `files_exercises`\n",
    "print('Making \"files_exercises\"')\n",
    "os.mkdir('files_exercises')\n",
    "\n",
    "# Change the working directory to `files_exercises`\n",
    "print('Changing working directory to \"files_exercises\"')\n",
    "os.chdir('files_exercises')\n",
    "\n",
    "# Display the current working directory to verify you are in the correct location\n",
    "print(\"Current working directory:\", os.getcwd())\n",
    "\n",
    "# Create 100 text files, the first line of each file is a random number in the range [1000, 9999]\n",
    "print(\"Creating 100 text files\")\n",
    "random.seed(25000) # to get the same random numbers every time the setup runs\n",
    "for i in range(100):\n",
    "    file_name = str(i) + \".txt\"\n",
    "    f = open(file_name, 'w')\n",
    "    f.write(str(random.randint(1000, 9999)))\n",
    "    f.close()\n",
    "\n",
    "# Create 5 directories\n",
    "print(\"Creating 5 directories\")\n",
    "for i in range(1, 6):\n",
    "    os.mkdir(\"dir_\"+str(i))\n",
    "\n",
    "print(\"Environment setup completed!\")"
   ]
  },
  {
   "cell_type": "markdown",
   "metadata": {},
   "source": [
    "## Deleting Files"
   ]
  },
  {
   "cell_type": "code",
   "execution_count": null,
   "metadata": {},
   "outputs": [],
   "source": [
    "# [ ] Complete the following program to delete the first 10 files inside `files_exercises` (0.txt, 1.txt ... 9.txt)\n",
    "# Make sure the to run the environment setup code before running your own program.\n",
    "\n",
    "import os\n",
    "\n",
    "if ('files_exercises' not in os.getcwd()):\n",
    "    print(\"STOP!!!! Run the environment setup code!\")\n",
    "\n",
    "# list the content of `files_exercises`\n",
    "print('Content of \"files_exercises\" before removing the files')\n",
    "print(os.listdir()) \n",
    "\n",
    "#TODO: delete the first 10 files\n",
    "print(len(os.listdir()))\n",
    "print(os.listdir()[:10])\n",
    "\n",
    "for f in os.listdir()[:10]:\n",
    "    if os.path.isfile(f):\n",
    "        os.remove(f)\n",
    "\n",
    "# list the content of `files_exercises`\n",
    "print('Content of \"files_exercises\" after removing the files')\n",
    "print(os.listdir()) \n",
    "\n",
    "print(len(os.listdir()))\n"
   ]
  },
  {
   "cell_type": "markdown",
   "metadata": {},
   "source": [
    "---\n",
    "<font size=\"6\" color=\"#00A0B2\"  face=\"verdana\"> <B>Concepts</B></font>  \n",
    "\n",
    "\n",
    "## Checking File Existence\n",
    "\n",
    "\n",
    "[![view video](https://iajupyterprodblobs.blob.core.windows.net/imagecontainer/common/play_video.png)](https://www.youtube.com/watch?v=PbXCwHKlgCk)\n",
    "\n",
    "In the previous section, you deleted a file assuming that it exists and assuming it is actually a file. In reality, these assumptions are not always true and you should consider them when writing programs that deal with files.\n",
    "\n",
    "#### Removing a file that doesn't exist\n",
    "Raises a `FileNotFoundError` exception. \n",
    "\n",
    "```python\n",
    "# Removing a file that does not exist\n",
    "file_path = \"parent_dir/fictitious_file.txt\"\n",
    "os.remove(file_path)\n",
    "\n",
    "-------------------------------------------------------------------------\n",
    "FileNotFoundError                       Traceback (most recent call last)\n",
    "<ipython-input-8-9e62af9a8388> in <module>()\n",
    "      1 # Removing a file that does not exist\n",
    "      2 file_path = \"parent_dir/fictitious_file.txt\"\n",
    "----> 3 os.remove(file_path)\n",
    "\n",
    "FileNotFoundError: [Errno 2] No such file or directory: 'parent_dir/fictitious_file.txt'\n",
    "```\n",
    "\n",
    "#### Removing a directory using `os.remove`\n",
    "When a directory is passed as an argument for `os.remove` a `PermissionError` is raised.\n",
    "\n",
    "```python\n",
    "# Passing a directory path to os.remove\n",
    "dir_path = \"parent_dir\"\n",
    "os.remove(dir_path)\n",
    "\n",
    "-------------------------------------------------------------------------\n",
    "PermissionError                         Traceback (most recent call last)\n",
    "<ipython-input-9-698c1518adf7> in <module>()\n",
    "      1 # Passing a directory path to os.remove\n",
    "      2 dir_path = \"parent_dir\"\n",
    "----> 3 os.remove(dir_path)\n",
    "\n",
    "PermissionError: [Errno 1] Operation not permitted: 'parent_dir'\n",
    "```\n",
    "\n",
    "### Simple solution\n",
    "In module 1 you were able to check if a path exists using `os.path.exists(path)`; in addition, you were able to figure out if a `path` is a file or directory using `os.path.isfile` and `os.path.isdir` respectively. You can use these functions to test a path and avoid the exceptions above."
   ]
  },
  {
   "cell_type": "markdown",
   "metadata": {},
   "source": [
    "---\n",
    "<font size=\"6\" color=\"#00A0B2\"  face=\"verdana\"> <B>Examples</B></font>\n"
   ]
  },
  {
   "cell_type": "code",
   "execution_count": 11,
   "metadata": {},
   "outputs": [
    {
     "name": "stdout",
     "output_type": "stream",
     "text": [
      "path does not exist\n"
     ]
    }
   ],
   "source": [
    "import os.path\n",
    "\n",
    "file_path = \"parent_dir/fictitious_file.txt\"\n",
    "\n",
    "# Removing a file\n",
    "\n",
    "# Check if the path exists\n",
    "if (os.path.exists(file_path)):\n",
    "    if (os.path.isfile(file_path)):\n",
    "        os.remove(file_path)\n",
    "    else:\n",
    "        print(\"Cannot remove a directory\")\n",
    "else:\n",
    "    print(\"path does not exist\")"
   ]
  },
  {
   "cell_type": "code",
   "execution_count": 12,
   "metadata": {},
   "outputs": [
    {
     "name": "stdout",
     "output_type": "stream",
     "text": [
      "path does not exist\n"
     ]
    }
   ],
   "source": [
    "import os.path\n",
    "\n",
    "file_path = \"parent_dir\"\n",
    "\n",
    "# Removing a file\n",
    "\n",
    "# Check if the path exists\n",
    "if (os.path.exists(file_path)):\n",
    "    if (os.path.isfile(file_path)):\n",
    "        os.remove(file_path)\n",
    "    else:\n",
    "        print(\"Cannot remove a directory\")\n",
    "else:\n",
    "    print(\"path does not exist\")"
   ]
  },
  {
   "cell_type": "markdown",
   "metadata": {},
   "source": [
    "---\n",
    "<font size=\"6\" color=\"#B24C00\"  face=\"verdana\"> <B>Task 2</B></font>\n",
    "\n",
    "## Checking File Existence\n"
   ]
  },
  {
   "cell_type": "code",
   "execution_count": 20,
   "metadata": {},
   "outputs": [
    {
     "name": "stdout",
     "output_type": "stream",
     "text": [
      "/home/nbuser/library/parent_dir/files_exercises\n",
      "['93.txt', '27.txt', '59.txt', '41.txt', '87.txt', '23.txt', '11.txt', '35.txt', '43.txt', '55.txt', '17.txt', '73.txt', '65.txt', '99.txt', '69.txt', '57.txt', 'dir_1', '3.txt', '63.txt', '37.txt', 'dir_5', '7.txt', '29.txt', '91.txt', '79.txt', '77.txt', '39.txt', '5.txt', '21.txt', '53.txt', '1.txt', '97.txt', '15.txt', 'dir_3', 'dir_2', 'dir_4', '13.txt', '45.txt', '31.txt', '95.txt', '19.txt', '25.txt', '61.txt', '75.txt', '33.txt', '49.txt', '71.txt', '89.txt', '9.txt', '81.txt', '47.txt', '67.txt', '85.txt', '83.txt', '51.txt']\n",
      "0 Files removed\n"
     ]
    }
   ],
   "source": [
    "# [ ] Write a program to delete all the even numbered files inside `files_exercises`\n",
    "# Make sure the to run the environment setup code before running your own program.\n",
    "\n",
    "import os\n",
    "\n",
    "if ('files_exercises' not in os.getcwd()):\n",
    "    print(\"STOP!!!! Run the environment setup code!\")\n",
    "\n",
    "print(os.getcwd())\n",
    "\n",
    "print(os.listdir())\n",
    "count = 0\n",
    "for f in os.listdir():    \n",
    "    if os.path.isfile(f):\n",
    "        if int(f.split(\".\")[0]) % 2 == 0:\n",
    "            os.remove(f)\n",
    "            count += 1\n",
    "\n",
    "print(count, \"Files removed\")"
   ]
  },
  {
   "cell_type": "code",
   "execution_count": 22,
   "metadata": {},
   "outputs": [
    {
     "name": "stdout",
     "output_type": "stream",
     "text": [
      "['93.txt', '27.txt', '59.txt', '41.txt', '87.txt', '23.txt', '11.txt', '35.txt', '43.txt', '55.txt', '17.txt', '73.txt', '65.txt', '99.txt', '69.txt', '57.txt', 'dir_1', '3.txt', '63.txt', '37.txt', 'dir_5', '7.txt', '29.txt', '91.txt', '79.txt', '77.txt', '39.txt', '5.txt', '21.txt', '53.txt', '1.txt', '97.txt', '15.txt', 'dir_3', 'dir_2', 'dir_4', '13.txt', '45.txt', '31.txt', '95.txt', '19.txt', '25.txt', '61.txt', '75.txt', '33.txt', '49.txt', '71.txt', '89.txt', '9.txt', '81.txt', '47.txt', '67.txt', '85.txt', '83.txt', '51.txt']\n",
      "5 Directories removed\n"
     ]
    }
   ],
   "source": [
    "# [ ] Write a program to delete all the directories inside `files_exercises`\n",
    "# Make sure the to run the environment setup code before running your own program.\n",
    "\n",
    "import os\n",
    "\n",
    "if ('files_exercises' not in os.getcwd()):\n",
    "    print(\"STOP!!!! Run the environment setup code!\")\n",
    "\n",
    "print(os.listdir())\n",
    "\n",
    "count = 0\n",
    "for d in os.listdir():\n",
    "    if os.path.isdir(d):\n",
    "        os.rmdir(d)\n",
    "        count += 1\n",
    "        \n",
    "print(count, \"Directories removed\")\n",
    "\n"
   ]
  },
  {
   "cell_type": "code",
   "execution_count": 30,
   "metadata": {},
   "outputs": [
    {
     "name": "stdout",
     "output_type": "stream",
     "text": [
      "['56.txt', '62.txt', '93.txt', '27.txt', '98.txt', '2.txt', '23.txt', '35.txt', '43.txt', '29.txt', '17.txt', '72.txt', '68.txt', '99.txt', '80.txt', '50.txt', 'dir_1', 'dir_2', '64.txt', '6.txt', '94.txt', '91.txt', '79.txt', '77.txt', '39.txt', '5.txt', '21.txt', '10.txt', '90.txt', '15.txt', 'dir_3', '28.txt', '76.txt', '4.txt', '31.txt', '40.txt', '34.txt', '13.txt', '75.txt', '49.txt', '71.txt', '92.txt', '74.txt', '66.txt', '42.txt', '58.txt', '57.txt', '18.txt', '85.txt', '83.txt', '0.txt', '51.txt', '16.txt', '78.txt', '86.txt', '32.txt', '48.txt', '30.txt', '37.txt', '87.txt', '59.txt', '89.txt', '24.txt', '41.txt', '60.txt', '11.txt', '33.txt', '26.txt', '81.txt', '8.txt', '73.txt', '36.txt', '96.txt', '70.txt', '44.txt', '69.txt', '3.txt', '63.txt', '22.txt', 'dir_5', '7.txt', '52.txt', '53.txt', '1.txt', '12.txt', '97.txt', 'dir_4', '67.txt', '45.txt', '14.txt', '38.txt', '54.txt', '95.txt', '19.txt', '25.txt', '61.txt', '47.txt', '88.txt', '9.txt', '84.txt', '65.txt', '20.txt', '82.txt', '46.txt']\n",
      "Please enter a file number: 9.0\n",
      "9.0 Is not an integer\n"
     ]
    }
   ],
   "source": [
    "# [ ] Write a program to ask the user for a file number, \n",
    "# then delete the file if it exists or display an appropriate error message if it does not.\n",
    "# Make sure the to run the environment setup code before running your own program.\n",
    "\n",
    "# Test your program with the following:\n",
    "# case 1: user inputs 84, 84.txt should be deleted\n",
    "# case 2: user inputs 84 (again), a File does not exist message is printed\n",
    "# case 3: user inputs 5, 5.txt should be deleted\n",
    "\n",
    "import os\n",
    "\n",
    "if ('files_exercises' not in os.getcwd()):\n",
    "    print(\"STOP!!!! Run the environment setup code!\")\n",
    "\n",
    "print(os.listdir())\n",
    "    \n",
    "num = input(\"Please enter a file number: \")\n",
    "\n",
    "try:\n",
    "    num = int(num)\n",
    "    for f in os.listdir():\n",
    "        if os.path.isfile(f):\n",
    "            if int(f.split(\".\")[0]) == num:\n",
    "                os.remove(f)\n",
    "            else:\n",
    "                print(\"File with number {0:} doesn't exist\".format(num))    \n",
    "                break\n",
    "except ValueError:\n",
    "    print(num, \"Is not an integer\")\n",
    "except Exception as exception_object:\n",
    "    print(\"Unexpected exception {0:}\".format(exception_object))\n",
    "\n",
    "\n",
    "\n"
   ]
  },
  {
   "cell_type": "markdown",
   "metadata": {},
   "source": [
    "---\n",
    "<font size=\"6\" color=\"#00A0B2\"  face=\"verdana\"> <B>Concepts</B></font>  \n",
    "\n",
    "## Handling File Exceptions\n",
    "\n",
    "[![view video](https://iajupyterprodblobs.blob.core.windows.net/imagecontainer/common/play_video.png)](https://www.youtube.com/watch?v=E_e8PbgSqYg)\n",
    "\n",
    "In the previous example, you anticipated some errors and tried to avoid them by testing that a path exists and whether it is to a file or directory. However, you still assumed the results of these tests are static and won't change while your program is running. This assumption might lead to errors again. For example, say you test for the existence of a file and determine that the file exists at the given path, and right after that another program moves the file; if your program attempts to remove the file, it will raise a `FileNotFoundError` because the file no longer exists in that location. Of course, this is considered an unhandled exception and your program will stop executing and display the error message as before.\n",
    "\n",
    "Python's philosophy in this case is to deal with these errors as exceptions and handle them using the techniques you saw in a previous lesson. This way, you can also deal with unexpected exceptions."
   ]
  },
  {
   "cell_type": "markdown",
   "metadata": {},
   "source": [
    "---\n",
    "<font size=\"6\" color=\"#00A0B2\"  face=\"verdana\"> <B>Examples</B></font>\n",
    "\n",
    "In these examples we use exception handling to make sure that a file exists and that it is a file."
   ]
  },
  {
   "cell_type": "code",
   "execution_count": null,
   "metadata": {},
   "outputs": [],
   "source": [
    "import os\n",
    "\n",
    "print(os.getcwd())\n",
    "print(os.listdir())\n",
    "# os.chdir(\"..\")\n",
    "\n",
    "# Create a file to be deleted\n",
    "file_path = \"parent_dir/fictitious_file.txt\"\n",
    "f = open(file_path, 'w')\n",
    "f.close()\n",
    "\n",
    "print(os.listdir(\"parent_dir\"))\n",
    "print()"
   ]
  },
  {
   "cell_type": "code",
   "execution_count": null,
   "metadata": {},
   "outputs": [],
   "source": [
    "import os.path\n",
    "\n",
    "file_path = \"parent_dir/fictitious_file.txt\"\n",
    "\n",
    "# Remove a file\n",
    "\n",
    "try:\n",
    "    os.remove(file_path)\n",
    "    print(\"Removed\", file_path)\n",
    "except FileNotFoundError as exception_object:\n",
    "    print(\"Cannot find file: \", exception_object)\n",
    "except PermissionError as exception_object:\n",
    "    print(\"Cannot delete a directory: \", exception_object)\n",
    "except Exception as exception_object:\n",
    "    print(\"Unexpected exception: \", exception_object)"
   ]
  },
  {
   "cell_type": "code",
   "execution_count": 8,
   "metadata": {},
   "outputs": [
    {
     "name": "stdout",
     "output_type": "stream",
     "text": [
      "Cannot find file:  [WinError 2] The system cannot find the file specified: 'parent_dir'\n"
     ]
    }
   ],
   "source": [
    "import os.path\n",
    "\n",
    "file_path = \"parent_dir\"\n",
    "\n",
    "# Remove a file\n",
    "\n",
    "try:\n",
    "    os.remove(file_path)\n",
    "except FileNotFoundError as exception_object:\n",
    "    print(\"Cannot find file: \", exception_object)\n",
    "except PermissionError as exception_object:\n",
    "    print(\"Cannot delete a directory: \", exception_object)\n",
    "except Exception as exception_object:\n",
    "    print(\"Unexpected exception: \", exception_object)"
   ]
  },
  {
   "cell_type": "markdown",
   "metadata": {},
   "source": [
    "---\n",
    "<font size=\"6\" color=\"#B24C00\"  face=\"verdana\"> <B>Task 3</B></font>\n",
    "\n",
    "## Handling File Exceptions\n"
   ]
  },
  {
   "cell_type": "code",
   "execution_count": 11,
   "metadata": {},
   "outputs": [
    {
     "name": "stdout",
     "output_type": "stream",
     "text": [
      "E:\\Work\\git\\Edx\\Dev330x_Python\\parent_dir\n",
      "['files_exercises']\n"
     ]
    }
   ],
   "source": [
    "print(os.getcwd())\n",
    "print(os.listdir())"
   ]
  },
  {
   "cell_type": "code",
   "execution_count": 9,
   "metadata": {},
   "outputs": [
    {
     "name": "stdout",
     "output_type": "stream",
     "text": [
      "STOP!!!! Run the environment setup code!\n",
      "Please enter a file number: 9\n",
      "Cannot find file:  [WinError 2] The system cannot find the file specified: '9.txt'\n"
     ]
    }
   ],
   "source": [
    "# [ ] Write a program to ask the user for a file number, \n",
    "# then delete the file if it exists or display an appropriate error message if it does not.\n",
    "# Use file exception handling instead of file existence tests.\n",
    "# Make sure to run the environment setup code before running your own program.\n",
    "\n",
    "# Test your program with the following:\n",
    "# Case 1: When the user inputs 84, the program should delete the file 84.txt\n",
    "# Case 2: When the user inputs 84 (again), the program should print a File Not Found error message\n",
    "# Case 3: When the user inputs 5, the program should delete the file 5.txt\n",
    "\n",
    "import os\n",
    "\n",
    "if ('files_exercises' not in os.getcwd()):\n",
    "    print(\"STOP!!!! Run the environment setup code!\")\n",
    "    \n",
    "try:\n",
    "    num = input(\"Please enter a file number: \")\n",
    "    num = int(num)\n",
    "    filename = str(num) + \".txt\"\n",
    "    os.remove(filename)    \n",
    "except ValueError as exception_object:\n",
    "    print(num, \"is not a number. {0:}\".format(exception_object))\n",
    "except FileNotFoundError as exception_object:\n",
    "    print(\"Cannot find file: \", exception_object)\n",
    "except PermissionError as exception_object:\n",
    "    print(\"Cannot delete a directory: \", exception_object)\n",
    "except Exception as exception_object:\n",
    "    print(\"Unexpected Exception: \", exception_object)\n",
    "else:\n",
    "    print(filename, \"was removed\")\n"
   ]
  },
  {
   "cell_type": "markdown",
   "metadata": {},
   "source": [
    "---\n",
    "<font size=\"6\" color=\"#00A0B2\"  face=\"verdana\"> <B>Concepts</B></font>  \n",
    "\n",
    "\n",
    "## `with` Statements\n",
    "\n",
    "\n",
    "[![view video](https://iajupyterprodblobs.blob.core.windows.net/imagecontainer/common/play_video.png)](https://www.youtube.com/watch?v=r0Cw5dyrr_Y)\n",
    "\n",
    "After interacting with a file in Python, it is very important to close the file to ensure that all output is written properly and the resources are freed. Sometimes an exception is raised before reaching the `close()` statement, and the file is kept open. This issue can be resolved by placing the `close()` statement inside a `finally` clause. However, because the process of opening and closing a file is very common, Python provides a succinct `with` statement that performs the same task. The syntax of the `with` statement is:\n",
    "\n",
    "```python\n",
    "with open(FILE_NAME, MODE) as VARIABLE:\n",
    "    code block\n",
    "```\n"
   ]
  },
  {
   "cell_type": "markdown",
   "metadata": {},
   "source": [
    "---\n",
    "<font size=\"6\" color=\"#00A0B2\"  face=\"verdana\"> <B>Examples</B></font>\n",
    "\n",
    "### Without a `with` statement\n",
    "In this example, you see that the file is still open after the `except` statement because `file.close()` is never reached."
   ]
  },
  {
   "cell_type": "code",
   "execution_count": 16,
   "metadata": {},
   "outputs": [],
   "source": [
    "os.chdir(\"..\")"
   ]
  },
  {
   "cell_type": "code",
   "execution_count": 18,
   "metadata": {},
   "outputs": [
    {
     "name": "stdout",
     "output_type": "stream",
     "text": [
      "['files_exercises', 'text_file.txt']\n"
     ]
    }
   ],
   "source": [
    "print(os.listdir(\"parent_dir\"))"
   ]
  },
  {
   "cell_type": "code",
   "execution_count": 17,
   "metadata": {},
   "outputs": [
    {
     "name": "stdout",
     "output_type": "stream",
     "text": [
      "E:\\Work\\git\\Edx\\Dev330x_Python\n",
      "['.idea', '.ipynb_checkpoints', '3-1.1_intro_Python.ipynb', '3-1.2_intro_Python.ipynb', '3-1.3_intro_Python.ipynb', '3-1.4_intro_Python.ipynb', '3-1.5_Mod01_Practice.ipynb', '3-2.1_intro_Python.ipynb', '3-2.2_intro_Python.ipynb', '3-2.3_intro_Python.ipynb', '3-2.4_intro_Python.ipynb', '3-2.5_Mod02_Practice.ipynb', '3-3.1_intro_Python.ipynb', '3-3.2_intro_Python.ipynb', '3-3.3_intro_Python.ipynb', '3-3.4_intro_Python.ipynb', '3-3.5_Mod03_Practice.ipynb', '3-4.1_intro_Python.ipynb', '3-4.2_intro_Python.ipynb', '3-4.3_intro_Python.ipynb', '3-4.4_intro_Python.ipynb', '3-4.5_Mod04_Practice.ipynb', 'MS_Mod01_Review.py', 'MS_Mod02_Review.py', 'MS_Python_3_1.1.py', 'MS_Python_3_1.2.py', 'MS_Python_3_1.3.py', 'MS_Python_3_1.4.py', 'MS_Python_3_2.1.py', 'MS_Python_3_2.2.py', 'MS_Python_3_2.3.py', 'MS_Python_3_3.2.py', 'parent_dir', 'Testing Jupyter.ipynb', 'Trapezoid Rule.ipynb']\n"
     ]
    }
   ],
   "source": [
    "print(os.getcwd())\n",
    "file_path = \"parent_dir/text_file.txt\"\n",
    "file = open(file_path, 'w')\n",
    "file.close()\n",
    "\n",
    "print(os.listdir())"
   ]
  },
  {
   "cell_type": "code",
   "execution_count": 19,
   "metadata": {},
   "outputs": [
    {
     "name": "stdout",
     "output_type": "stream",
     "text": [
      "Unexpected exception: invalid literal for int() with base 10: ''\n",
      "File is closed? False\n"
     ]
    }
   ],
   "source": [
    "file_path = \"parent_dir/text_file.txt\"\n",
    "\n",
    "try:\n",
    "    file = open(file_path, 'r')\n",
    "    x = int(file.readline()) # Raise an exception if lines are not numeric\n",
    "    file.close() # Might never be reached if file.write raised an error\n",
    "except Exception as exception_object:\n",
    "    print(\"Unexpected exception:\", exception_object)\n",
    "\n",
    "print(\"File is closed?\", file.closed)"
   ]
  },
  {
   "cell_type": "markdown",
   "metadata": {},
   "source": [
    "### Using a `finally` statement\n",
    "The `finally` clause will close the file whether an exception was raised or not."
   ]
  },
  {
   "cell_type": "code",
   "execution_count": 20,
   "metadata": {},
   "outputs": [
    {
     "name": "stdout",
     "output_type": "stream",
     "text": [
      "Unexpected exception: invalid literal for int() with base 10: ''\n",
      "File is closed? True\n"
     ]
    }
   ],
   "source": [
    "file_path = \"parent_dir/text_file.txt\"\n",
    "\n",
    "try:\n",
    "    file = open(file_path, 'r')\n",
    "    x = int(file.readline()) #raise an exception if lines are not numeric\n",
    "except Exception as exception_object:\n",
    "    print(\"Unexpected exception:\", exception_object)\n",
    "finally:\n",
    "    file.close() # will be executed whether an exception was raised or not\n",
    "\n",
    "print(\"File is closed?\", file.closed)"
   ]
  },
  {
   "cell_type": "markdown",
   "metadata": {},
   "source": [
    "### Using a `with` statement\n",
    "You need not explicitly close the file; the `with` statement will do it for you."
   ]
  },
  {
   "cell_type": "code",
   "execution_count": 21,
   "metadata": {},
   "outputs": [
    {
     "name": "stdout",
     "output_type": "stream",
     "text": [
      "Unexpected exception invalid literal for int() with base 10: ''\n",
      "File is closed? True\n"
     ]
    }
   ],
   "source": [
    "file_path = \"parent_dir/text_file.txt\"\n",
    "\n",
    "try:\n",
    "    with open(file_path, 'r') as file:\n",
    "        x = int(file.readline()) #raise an exception if lines are not numeric\n",
    "except Exception as exception_object:\n",
    "    print(\"Unexpected exception\", exception_object)\n",
    "\n",
    "print(\"File is closed?\", file.closed)"
   ]
  },
  {
   "cell_type": "markdown",
   "metadata": {},
   "source": [
    "---\n",
    "<font size=\"6\" color=\"#B24C00\"  face=\"verdana\"> <B>Task 4</B></font>\n",
    "\n",
    "## `with` Statements"
   ]
  },
  {
   "cell_type": "code",
   "execution_count": 27,
   "metadata": {},
   "outputs": [
    {
     "name": "stdout",
     "output_type": "stream",
     "text": [
      "7823\n",
      "7894\n",
      "1591\n",
      "9749\n",
      "3313\n",
      "6148\n",
      "3691\n",
      "5058\n",
      "3570\n",
      "4499\n",
      "3345\n",
      "5229\n",
      "1087\n",
      "2769\n",
      "9287\n",
      "2317\n",
      "3747\n",
      "7888\n",
      "2531\n",
      "6845\n",
      "2177\n",
      "2580\n",
      "9907\n",
      "2306\n",
      "2300\n",
      "2774\n",
      "2287\n",
      "1159\n",
      "5908\n",
      "9528\n",
      "5653\n",
      "4769\n",
      "3245\n",
      "8295\n",
      "7372\n",
      "3909\n",
      "4631\n",
      "9805\n",
      "1163\n",
      "9873\n",
      "1358\n",
      "3762\n",
      "5948\n",
      "6433\n",
      "4626\n",
      "3462\n",
      "9083\n",
      "5436\n",
      "1053\n",
      "9449\n",
      "1587\n",
      "2853\n",
      "2344\n",
      "9496\n",
      "3204\n",
      "3678\n",
      "1856\n",
      "7957\n",
      "4112\n",
      "1441\n",
      "3944\n",
      "7415\n",
      "1248\n",
      "6028\n",
      "9330\n",
      "9459\n",
      "5154\n",
      "1517\n",
      "9358\n",
      "6153\n",
      "3353\n",
      "6279\n",
      "3932\n",
      "1193\n",
      "8426\n",
      "2352\n",
      "9923\n",
      "7865\n",
      "3389\n",
      "6921\n",
      "2913\n",
      "1121\n",
      "2542\n",
      "4736\n",
      "3447\n",
      "3178\n",
      "9846\n",
      "1525\n",
      "5657\n",
      "9748\n",
      "1574\n",
      "8967\n",
      "7361\n",
      "4912\n",
      "5433\n",
      "8301\n",
      "1095\n",
      "7586\n",
      "9524\n",
      "5396\n",
      "Files read:  100\n"
     ]
    }
   ],
   "source": [
    "# [ ] Write a program to print the first line of every file inside `files_exercises`\n",
    "# Use a `with` statement to open (and close) every file\n",
    "# Make sure the to run the environment setup code before running your own program.\n",
    "\n",
    "\n",
    "import os\n",
    "\n",
    "if ('files_exercises' not in os.getcwd()):\n",
    "    print(\"STOP!!!! Run the environment setup code!\")\n",
    "\n",
    "try:\n",
    "    count = 0\n",
    "    for f in os.listdir():\n",
    "        if os.path.isfile(f):\n",
    "            with open(f, 'r') as file:\n",
    "                x = file.readline()\n",
    "                print(x)\n",
    "                count += 1\n",
    "        \n",
    "    print(\"Files read: \", count)\n",
    "except Exception as exception_object:\n",
    "    print(\"Unexpected exception\", exception_object)\n",
    "\n",
    "    \n",
    "\n"
   ]
  },
  {
   "cell_type": "code",
   "execution_count": 22,
   "metadata": {},
   "outputs": [
    {
     "name": "stdout",
     "output_type": "stream",
     "text": [
      "E:\\Work\\git\\Edx\\Dev330x_Python\n"
     ]
    }
   ],
   "source": [
    "import os\n",
    "\n",
    "print(os.getcwd())\n"
   ]
  },
  {
   "cell_type": "code",
   "execution_count": null,
   "metadata": {},
   "outputs": [],
   "source": []
  }
 ],
 "metadata": {
  "kernelspec": {
   "display_name": "Python 3",
   "language": "python",
   "name": "python3"
  },
  "language_info": {
   "codemirror_mode": {
    "name": "ipython",
    "version": 3
   },
   "file_extension": ".py",
   "mimetype": "text/x-python",
   "name": "python",
   "nbconvert_exporter": "python",
   "pygments_lexer": "ipython3",
   "version": "3.6.3"
  }
 },
 "nbformat": 4,
 "nbformat_minor": 2
}
