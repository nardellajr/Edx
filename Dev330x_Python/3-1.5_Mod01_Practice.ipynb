{
 "cells": [
  {
   "cell_type": "markdown",
   "metadata": {},
   "source": [
    "# Module 1 Practice\n",
    "\n",
    "### Students will be able to:\n",
    "\n",
    "## 3-1.1 Using Python Modules\n",
    "* Import different Python modules\n",
    "* Compute mathematical expressions using functions from the math module\n",
    "* Recognize the effect of operator precedence\n",
    "* Round real numbers into the nearest integer\n",
    "* Generate (pseudo-)random integers\n",
    "* Select a random element from a list\n",
    "* Shuffle the elements of a list\n",
    "\n",
    "##  3-1.2 Working with Date and Time\n",
    "* Assign and modify a time object (variable)\n",
    "* Assign and modify a date object (variable)\n",
    "* Get the current local date\n",
    "* Assign and modify a datetime object (variable)\n",
    "* Split a datetime object into separate time and date objects\n",
    "* Combine time and date objects into datetime objects\n",
    "* Display a datetime object as a formatted string\n",
    "\n",
    "## 3-1.3 Date and Time Arithmetic\n",
    "\n",
    "* Create timedelta objects\n",
    "* Use timedelta objects to perform date arithmetic\n",
    "* Compare two datetime objects\n",
    "* Build a useful application using timedelta arithmetic\n",
    "\n",
    "## 3-1.4 File System\n",
    "\n",
    "* Identify the platform running a Python script ('Linux', 'win32', 'Darwin')\n",
    "* Get the current working directory\n",
    "* Change the current working directory\n",
    "* List the content of the current working directory\n",
    "* Create a new directory\n",
    "* Remove a directory\n",
    "* Rename files and/or directories\n",
    "* Recognize the difference between a relative path and an absolute path\n",
    "* Test if a path exists\n",
    "* Test if a specific file or directory exists"
   ]
  },
  {
   "cell_type": "markdown",
   "metadata": {},
   "source": [
    "---\n",
    "<font size=\"6\" color=\"#B24C00\"  face=\"verdana\"> <B>Task 1</B></font>\n",
    "\n",
    "## `math` module\n"
   ]
  },
  {
   "cell_type": "code",
   "execution_count": 1,
   "metadata": {},
   "outputs": [
    {
     "name": "stdout",
     "output_type": "stream",
     "text": [
      "3.141592653589793\n"
     ]
    }
   ],
   "source": [
    "# [ ] Use the math module to display an accurate value for pi\n",
    "\n",
    "import math\n",
    "\n",
    "print(math.pi)"
   ]
  },
  {
   "cell_type": "code",
   "execution_count": 2,
   "metadata": {},
   "outputs": [
    {
     "name": "stdout",
     "output_type": "stream",
     "text": [
      "Number divisible by 3:  45\n",
      "The squre root of this number: 6.708203932499369\n",
      "Truncating decimal fraction: 6\n",
      "Ceiling value of the square root: 7\n",
      "Number divisible by 3:  42\n",
      "The squre root of this number: 6.48074069840786\n",
      "Truncating decimal fraction: 6\n",
      "Ceiling value of the square root: 7\n",
      "Number divisible by 3:  87\n",
      "The squre root of this number: 9.327379053088816\n",
      "Truncating decimal fraction: 9\n",
      "Ceiling value of the square root: 10\n",
      "Number divisible by 3:  39\n",
      "The squre root of this number: 6.244997998398398\n",
      "Truncating decimal fraction: 6\n",
      "Ceiling value of the square root: 7\n",
      "Number divisible by 3:  18\n",
      "The squre root of this number: 4.242640687119285\n",
      "Truncating decimal fraction: 4\n",
      "Ceiling value of the square root: 5\n"
     ]
    }
   ],
   "source": [
    "# [ ] Write a program to:\n",
    "# 1) find all the numbers in a list that are divisible by 3\n",
    "# 2) display the square root of these numbers\n",
    "# 3) use a rounding function to display the square roots while ignoring the decimal fraction\n",
    "\n",
    "lst = [23, 45, 65, 2345, 42, 76, 37, 87, 647, 35, 37 ,39, 898, 92, 18]\n",
    "\n",
    "for i in lst:\n",
    "    if i % 3 == 0:\n",
    "        print(\"Number divisible by 3: \", i)\n",
    "        print(\"The squre root of this number:\", math.sqrt(i))\n",
    "        print(\"Truncating decimal fraction:\", math.trunc(math.sqrt(i)))\n",
    "        print(\"Ceiling value of the square root:\", math.ceil(math.sqrt(i)))\n",
    "        \n"
   ]
  },
  {
   "cell_type": "markdown",
   "metadata": {},
   "source": [
    "---\n",
    "<font size=\"6\" color=\"#B24C00\"  face=\"verdana\"> <B>Task 2</B></font>\n",
    "\n",
    "## Mathematical operators\n"
   ]
  },
  {
   "cell_type": "markdown",
   "metadata": {},
   "source": [
    "### Coin calculators\n",
    "\n",
    "In the following exercises, you will develop functions to count the number of coins in a certain dollar amount. You will then use these functions to write a program that can calculate the change due to a customer in coins."
   ]
  },
  {
   "cell_type": "markdown",
   "metadata": {},
   "source": [
    "#### Quarters"
   ]
  },
  {
   "cell_type": "code",
   "execution_count": 3,
   "metadata": {},
   "outputs": [
    {
     "name": "stdout",
     "output_type": "stream",
     "text": [
      "Quarters in input: 8\n",
      "Quarters in input: 21.0\n",
      "0.1999999999999993\n",
      "Quarters in input: 37.0\n",
      "0.9600000000000009\n"
     ]
    }
   ],
   "source": [
    "# [ ] Complete the function `quarters_count` so it calculates and prints the number of quarters in `input_cents`\n",
    "# The function input `input_cents` should be in cents \n",
    "# The function should print the number of calculated quarters in `input_cents`\n",
    "# The function should return the number of remaining cents `remaining_cents` (which is less than 25, why?)\n",
    "# HINT: You might want to use % and // operators\n",
    "\n",
    "def quarters_count(input_cents):    \n",
    "    print(\"Quarters in input:\", input_cents // 25)\n",
    "    \n",
    "    if input_cents % 25 != 0:\n",
    "        actualvalue = input_cents / 25\n",
    "        cents = actualvalue - math.trunc(actualvalue)        \n",
    "        print(cents)        \n",
    "        return cents       \n",
    "    \n",
    "# test with $2\n",
    "# Output should be: 8 quarter\\s\n",
    "dollars = 2\n",
    "total_cents = dollars * 100\n",
    "remaining_cents = quarters_count(total_cents)\n",
    "\n",
    "# test with $5.30\n",
    "# Output should be: 21.0 quarter\\s\n",
    "dollars = 5.30\n",
    "total_cents = dollars * 100\n",
    "remaining_cents = quarters_count(total_cents)\n",
    "\n",
    "# test with $9.49\n",
    "# Output should be: 37.0 quarter\\s\n",
    "dollars = 9.49\n",
    "total_cents = dollars * 100\n",
    "remaining_cents = quarters_count(total_cents)\n",
    "\n"
   ]
  },
  {
   "cell_type": "markdown",
   "metadata": {},
   "source": [
    "#### Dimes"
   ]
  },
  {
   "cell_type": "code",
   "execution_count": 4,
   "metadata": {},
   "outputs": [
    {
     "name": "stdout",
     "output_type": "stream",
     "text": [
      "Dimes in input: 20\n",
      "Dimes in input: 53.0\n",
      "Dimes in input: 94.0\n",
      "0.9000000000000057\n"
     ]
    }
   ],
   "source": [
    "# [ ] Complete the function `dimes_count` so it calculates and prints the number of dimes in `input_cents`\n",
    "# The function input `input_cents` should be in cents \n",
    "# The function should print the number of calculated dimes in `input_cents`\n",
    "# The function should return the number of remaining cents `remaining_cents` (which is less than 10, why?)\n",
    "# HINT: You might want to use % and // operators\n",
    "\n",
    "def dimes_count(input_cents):\n",
    "    print(\"Dimes in input:\", input_cents // 10)\n",
    "    \n",
    "    if input_cents % 10 != 0:\n",
    "        actualvalue = input_cents / 10\n",
    "        cents = actualvalue - math.trunc(actualvalue)\n",
    "        print(cents)\n",
    "        return cents\n",
    "        \n",
    "# test with $2\n",
    "# Output should be: 20 dime\\s\n",
    "dollars = 2\n",
    "total_cents = dollars * 100\n",
    "remaining_cents = dimes_count(total_cents)\n",
    "\n",
    "# test with $5.30\n",
    "# Output should be: 53.0 dime\\s\n",
    "dollars = 5.30\n",
    "total_cents = dollars * 100\n",
    "remaining_cents = dimes_count(total_cents)\n",
    "\n",
    "# test with $9.49\n",
    "# Output should be: 94.0 dime\\s\n",
    "dollars = 9.49\n",
    "total_cents = dollars * 100\n",
    "remaining_cents = dimes_count(total_cents)\n",
    "\n"
   ]
  },
  {
   "cell_type": "markdown",
   "metadata": {},
   "source": [
    "#### Nickels"
   ]
  },
  {
   "cell_type": "code",
   "execution_count": 11,
   "metadata": {},
   "outputs": [
    {
     "name": "stdout",
     "output_type": "stream",
     "text": [
      "Nickels in input: 40\n",
      "Nickels in input: 106.0\n",
      "Nickels in input: 189.0\n",
      "0.8000000000000114\n"
     ]
    }
   ],
   "source": [
    "# [ ] Complete the function `nickels_count` so it calculates and prints the number of nickels in `input_cents`\n",
    "# The function input `input_cents` should be in cents \n",
    "# The function should print the number of calculated nickels in `input_cents`\n",
    "# The function should return the number of remaining cents `remaining_cents` (which is less than 5, why?)\n",
    "# HINT: You might want to use % and // operators\n",
    "\n",
    "def nickels_count(input_cents):\n",
    "    print(\"Nickels in input:\", input_cents // 5)\n",
    "    \n",
    "    if input_cents % 5 != 0:\n",
    "        actualvalue = input_cents / 5\n",
    "        cents = actualvalue - math.trunc(actualvalue)\n",
    "        print(cents)\n",
    "        return cents\n",
    "\n",
    "# test with $2\n",
    "# Output should be: 40 nickel\\s\n",
    "dollars = 2\n",
    "total_cents = dollars * 100\n",
    "remaining_cents = nickels_count(total_cents)\n",
    "\n",
    "# test with $5.30\n",
    "# Output should be: 106.0 nickel\\s\n",
    "dollars = 5.30\n",
    "total_cents = dollars * 100\n",
    "remaining_cents = nickels_count(total_cents)\n",
    "\n",
    "# test with $9.49\n",
    "# Output should be: 189.0 nickel\\s\n",
    "dollars = 9.49\n",
    "total_cents = dollars * 100\n",
    "remaining_cents = nickels_count(total_cents)\n",
    "\n"
   ]
  },
  {
   "cell_type": "markdown",
   "metadata": {},
   "source": [
    "#### Change calculator"
   ]
  },
  {
   "cell_type": "code",
   "execution_count": 6,
   "metadata": {},
   "outputs": [
    {
     "name": "stdout",
     "output_type": "stream",
     "text": [
      "Change due:\n",
      "18.0 quarter\\s\n",
      "1.0 dime\\s\n",
      "0.0 nickel\\s\n",
      "3.0 cent\\s\n"
     ]
    }
   ],
   "source": [
    "# [ ] Complete the function `coins_due` to calculate and print the change due to a customer in coins\n",
    "#\n",
    "# The function `coins_due` has 2 inputs:\n",
    "#      - `amount_paid`: Amount paid by a customer (in cents)\n",
    "#      - `item_price`: Purchase price of an item\n",
    "#\n",
    "# The function should print:\n",
    "#      - The number of quarters due\n",
    "#      - The number of dimes due\n",
    "#      - The number of nickels due\n",
    "#      - The number of cents due\n",
    "#      \n",
    "# The function does not need to return anything\n",
    "#\n",
    "# HINT: Use the functions you developed before `quarters_count`, `dimes_count`, `nickels_count`\n",
    "\n",
    "    \n",
    "\n",
    "def quarters_count(input_cents):        \n",
    "    quarters = input_cents // 25    \n",
    "    print(quarters, \"quarter\\s\")\n",
    "    \n",
    "    cents = input_cents\n",
    "    if input_cents % 25 != 0:\n",
    "        cents = input_cents - (quarters * 25)        \n",
    "    \n",
    "    return cents\n",
    "\n",
    "\n",
    "def dimes_count(input_cents):\n",
    "    dimes = input_cents // 10\n",
    "    print(dimes, \"dime\\s\")\n",
    "    \n",
    "    cents = input_cents\n",
    "    if input_cents % 10 != 0:        \n",
    "        cents = input_cents - (dimes * 10)        \n",
    "    \n",
    "    return cents\n",
    "    \n",
    "\n",
    "def nickels_count(input_cents):\n",
    "    nickels = input_cents // 5\n",
    "    print(nickels, \"nickel\\s\")\n",
    "    \n",
    "    cents = input_cents\n",
    "    if input_cents % 5 != 0:        \n",
    "        cents = input_cents - (nickels * 5)        \n",
    "    \n",
    "    return cents\n",
    "\n",
    "\n",
    "\n",
    "def coins_due(amount_paid, item_price):       \n",
    "    print(\"Change due:\")             \n",
    "    q = quarters_count(amount_paid - item_price)\n",
    "    #print(q, \"q\")\n",
    "    d = dimes_count(q)\n",
    "    #print(d, \"d\")\n",
    "    n = nickels_count(d)\n",
    "    #print(n, \"n\")\n",
    "    print(n // 1, \"cent\\s\")\n",
    "    \n",
    "    \n",
    "\n",
    "# Test case:\n",
    "# amount paid = $10, item price = $5.37\n",
    "# Output should be: \n",
    "#    Change due:\n",
    "#    18.0 quarter\\s\n",
    "#    1.0 dime\\s\n",
    "#    0.0 nickel\\s\n",
    "#    3.0 cent\\s\n",
    "\n",
    "amount_paid = 10 * 100 # in cents\n",
    "item_price = 5.37 * 100 # in cents\n",
    "coins_due(amount_paid, item_price)\n",
    "\n",
    "\n"
   ]
  },
  {
   "cell_type": "markdown",
   "metadata": {},
   "source": [
    "---\n",
    "<font size=\"6\" color=\"#B24C00\"  face=\"verdana\"> <B>Task 3</B></font>\n",
    "\n",
    "## Random numbers\n"
   ]
  },
  {
   "cell_type": "markdown",
   "metadata": {},
   "source": [
    "### Probability of a die roll\n",
    "\n",
    "It is possible to mathematically predict the probability (or chance) of getting a certain die roll; however, in this exercise you will use Python to do it without math. The trick is to roll a die a large number of times and count how many times we get a certain roll. You can, then, divide the count by the large number to get the probability. For a fair 6-sided die, the chance of getting any of its faces is about 16.6%"
   ]
  },
  {
   "cell_type": "code",
   "execution_count": 18,
   "metadata": {},
   "outputs": [
    {
     "name": "stdout",
     "output_type": "stream",
     "text": [
      "Probability of dice number: 6 is 15.10%\n",
      "Probability of dice number: 1 is 16.40%\n",
      "Probability of dice number: 4 is 18.80%\n",
      "Probability of dice number: 2 is 15.40%\n",
      "Probability of dice number: 5 is 16.70%\n",
      "Probability of dice number: 3 is 17.70%\n"
     ]
    }
   ],
   "source": [
    "# [ ] Complete the following program to display the probability of a certain die roll\n",
    "import math\n",
    "from random import randint\n",
    "\n",
    "def die_roller ():\n",
    "    return(randint(1, 6))\n",
    "\n",
    "count = 0\n",
    "dicecount = {}\n",
    "while count <= 1000:\n",
    "    d = die_roller()\n",
    "    # print(\"d:\", d)\n",
    "    if d in dicecount:\n",
    "        dicecount[d] += 1\n",
    "    else:\n",
    "        dicecount[d] = 1\n",
    "    count += 1\n",
    "\n",
    "# print(dicecount)\n",
    "for d in dicecount.keys():\n",
    "    print(\"Probability of dice number: \", d, \" is \", \"{0:.2f}\".format((dicecount[d] / 1000) * 100), \"%\", sep=\"\")\n",
    "\n",
    "   \n"
   ]
  },
  {
   "cell_type": "markdown",
   "metadata": {},
   "source": [
    "### Roll till you get 11\n",
    "\n",
    "In this exercise, you will count the number of times you need to roll a set of 2 dice till you get a roll sum of 11."
   ]
  },
  {
   "cell_type": "code",
   "execution_count": 11,
   "metadata": {},
   "outputs": [
    {
     "name": "stdout",
     "output_type": "stream",
     "text": [
      "29\n"
     ]
    }
   ],
   "source": [
    "# [ ] Complete the following program so you can count the number of times needed to get a roll sum of 11\n",
    "\n",
    "from random import randint\n",
    "\n",
    "def die_roller():\n",
    "    return(randint(1, 6))\n",
    "\n",
    "def roll_sum():\n",
    "    return die_roller() + die_roller()\n",
    "\n",
    "rollcount = 0\n",
    "total = 0\n",
    "while total != 11:\n",
    "    total = roll_sum()\n",
    "    rollcount += 1\n",
    "\n",
    "print(rollcount)\n",
    "\n"
   ]
  },
  {
   "cell_type": "markdown",
   "metadata": {},
   "source": [
    "### Pick a candy\n",
    "\n",
    "In this exercise, you will write a program to randomly select a candy from a box."
   ]
  },
  {
   "cell_type": "code",
   "execution_count": 1,
   "metadata": {},
   "outputs": [
    {
     "name": "stdout",
     "output_type": "stream",
     "text": [
      "Chocolate\n",
      "Cookie\n",
      "Candy bar\n",
      "Marshmallow\n",
      "Taffy\n",
      "\n",
      "Using the 'choice' function:\n",
      "Brownie\n",
      "Gingerbread\n",
      "Gingerbread\n",
      "Brownie\n",
      "Gingerbread\n"
     ]
    }
   ],
   "source": [
    "# [ ] Complete the function `pick_candy` so it returns a candy from box at random\n",
    "from random import randint\n",
    "from random import choice\n",
    "\n",
    "def pick_candy():\n",
    "    box = [\"Taffy\", \"Brownie\", \"Cookie\", \"Candy bar\", \"Chocolate\", \"Lollipop\", \"Gingerbread\", \"Marshmallow\"]   \n",
    "    i = randint(0, len(box) - 1)\n",
    "    return box[i]\n",
    "\n",
    "for i in range(0, 5):\n",
    "    print(pick_candy())\n",
    "\n",
    "def pickcandy():\n",
    "    box = [\"Taffy\", \"Brownie\", \"Cookie\", \"Candy bar\", \"Chocolate\", \"Lollipop\", \"Gingerbread\", \"Marshmallow\"]   \n",
    "    return choice(box)\n",
    "\n",
    "\n",
    "print(\"\\n\", \"Using the 'choice' function:\", sep=\"\")\n",
    "for i in range(0, 5):   \n",
    "    print(pickcandy())\n",
    "\n"
   ]
  },
  {
   "cell_type": "markdown",
   "metadata": {},
   "source": [
    "### Shuffle a sorted list"
   ]
  },
  {
   "cell_type": "code",
   "execution_count": 35,
   "metadata": {},
   "outputs": [
    {
     "name": "stdout",
     "output_type": "stream",
     "text": [
      "[3, 102, 35, 594, 394, 1993, 59, 9, 29, 62, 5, 69]\n"
     ]
    }
   ],
   "source": [
    "# [ ] Write a program to shuffle the following sorted list\n",
    "from random import shuffle\n",
    "\n",
    "lst = [3, 5, 9, 29, 35, 59, 62, 69, 102, 394, 594, 1993]\n",
    "\n",
    "shuffle(lst)\n",
    "\n",
    "print(lst)\n",
    "\n"
   ]
  },
  {
   "cell_type": "markdown",
   "metadata": {},
   "source": [
    "---\n",
    "<font size=\"6\" color=\"#B24C00\"  face=\"verdana\"> <B>Task 4</B></font>\n",
    "\n",
    "## Working with date and time\n"
   ]
  },
  {
   "cell_type": "markdown",
   "metadata": {},
   "source": [
    "### Current date and time"
   ]
  },
  {
   "cell_type": "code",
   "execution_count": 37,
   "metadata": {},
   "outputs": [
    {
     "name": "stdout",
     "output_type": "stream",
     "text": [
      "02:28 AM\n"
     ]
    }
   ],
   "source": [
    "# [ ] Write a program that displays the current time as (HH:MM AM/PM) (example 02:28 PM)\n",
    "from datetime import time\n",
    "\n",
    "t = time(hour=2, minute=28)\n",
    "print(t.strftime(\"%I:%M %p\"))\n"
   ]
  },
  {
   "cell_type": "code",
   "execution_count": 39,
   "metadata": {},
   "outputs": [
    {
     "name": "stdout",
     "output_type": "stream",
     "text": [
      "14:28:10\n"
     ]
    }
   ],
   "source": [
    "# [ ] Write a program that displays the current time as (HH:MM:SS) (example 14:28:10)\n",
    "\n",
    "t = time(hour=14, minute=28, second=10)\n",
    "\n",
    "print(t.strftime(\"%H:%M:%S\"))\n",
    "\n"
   ]
  },
  {
   "cell_type": "code",
   "execution_count": 42,
   "metadata": {},
   "outputs": [
    {
     "name": "stdout",
     "output_type": "stream",
     "text": [
      "Friday, December 15, 2017\n"
     ]
    }
   ],
   "source": [
    "# [ ] Write a program that displays the current date as (Friday, December 15, 2017)\n",
    "from datetime import date\n",
    "\n",
    "d = date(month=12, day=15, year=2017)\n",
    "\n",
    "print(d.strftime(\"%A, %B %d, %Y\"))\n"
   ]
  },
  {
   "cell_type": "markdown",
   "metadata": {},
   "source": [
    "### American VS European date format\n",
    "\n",
    "In the United States, the date is formatted as Month/Day/Year; whereas, in Europe the date is formatted as Day/Month/Year. In this exercise, you will write two functions that will display a `datetime` object in the American or European format."
   ]
  },
  {
   "cell_type": "code",
   "execution_count": 48,
   "metadata": {},
   "outputs": [
    {
     "name": "stdout",
     "output_type": "stream",
     "text": [
      "American format: Monday, February 13, 2012\n",
      "European format: 13 February 2012\n"
     ]
    }
   ],
   "source": [
    "# [ ] Complete the functions `american_format(d)` and `european_format(d)` to display the datetime object d in the proper format\n",
    "\n",
    "from datetime import datetime\n",
    "\n",
    "def american_format(d):\n",
    "    # month day year        \n",
    "    return d.strftime(\"%A, %B %d, %Y\")\n",
    "    \n",
    "def european_format(d):\n",
    "    # Day month year\n",
    "    return d.strftime(\"%d %B %Y\")\n",
    "    \n",
    "# test\n",
    "d = datetime(month = 2, year = 2012, day = 13)\n",
    "\n",
    "print(\"American format:\", american_format(d))\n",
    "print(\"European format:\", european_format(d))\n",
    "\n",
    "\n"
   ]
  },
  {
   "cell_type": "markdown",
   "metadata": {},
   "source": [
    "### Birthday days"
   ]
  },
  {
   "cell_type": "code",
   "execution_count": 13,
   "metadata": {},
   "outputs": [
    {
     "name": "stdout",
     "output_type": "stream",
     "text": [
      "Wednesday, June 11, 08\n",
      "Thursday, June 11, 09\n",
      "Friday, June 11, 10\n",
      "Saturday, June 11, 11\n",
      "Monday, June 11, 12\n",
      "Tuesday, June 11, 13\n",
      "Wednesday, June 11, 14\n",
      "Thursday, June 11, 15\n",
      "Saturday, June 11, 16\n",
      "Sunday, June 11, 17\n",
      "Monday, June 11, 18\n",
      "Tuesday, June 11, 19\n",
      "Thursday, June 11, 20\n",
      "Friday, June 11, 21\n",
      "Saturday, June 11, 22\n",
      "Sunday, June 11, 23\n",
      "Tuesday, June 11, 24\n",
      "Wednesday, June 11, 25\n",
      "Thursday, June 11, 26\n",
      "Friday, June 11, 27\n",
      "Sunday, June 11, 28\n",
      "Monday, June 11, 29\n",
      "Tuesday, June 11, 30\n",
      "Wednesday, June 11, 31\n",
      "Friday, June 11, 32\n",
      "Saturday, June 11, 33\n",
      "Sunday, June 11, 34\n",
      "Monday, June 11, 35\n",
      "Wednesday, June 11, 36\n",
      "Thursday, June 11, 37\n",
      "Friday, June 11, 38\n",
      "Saturday, June 11, 39\n",
      "Monday, June 11, 40\n",
      "Tuesday, June 11, 41\n",
      "Wednesday, June 11, 42\n",
      "Thursday, June 11, 43\n",
      "Saturday, June 11, 44\n"
     ]
    }
   ],
   "source": [
    "# [ ] Write a program to display a list of all your birthdays from the day you were born till 2025.\n",
    "# You should also show the weekdays so you can see which of them was (or will be) on a weekend\n",
    "from datetime import date\n",
    "\n",
    "d = date(month=6, day=11, year=2008)\n",
    "for y in range(2008, 2045):\n",
    "    d = d.replace(year=y)\n",
    "    print(d.strftime(\"%A, %B %d, %y\")) \n"
   ]
  },
  {
   "cell_type": "markdown",
   "metadata": {},
   "source": [
    "---\n",
    "<font size=\"6\" color=\"#B24C00\"  face=\"verdana\"> <B>Task 5</B></font>\n",
    "\n",
    "## Date and Time Arithmetic\n"
   ]
  },
  {
   "cell_type": "markdown",
   "metadata": {},
   "source": [
    "timedelta"
   ]
  },
  {
   "cell_type": "code",
   "execution_count": 57,
   "metadata": {},
   "outputs": [
    {
     "name": "stdout",
     "output_type": "stream",
     "text": [
      "40320.0\n"
     ]
    }
   ],
   "source": [
    "# Write a program to find out how many minutes are in a 4-week period\n",
    "# Hint: Use a timedelta object and the total_seconds() method\n",
    "from datetime import timedelta\n",
    "\n",
    "d1 = timedelta(weeks=4)\n",
    "minutes = d1.total_seconds() / 60\n",
    "print(minutes)\n"
   ]
  },
  {
   "cell_type": "markdown",
   "metadata": {},
   "source": [
    "Date arithmetic\n"
   ]
  },
  {
   "cell_type": "code",
   "execution_count": 15,
   "metadata": {},
   "outputs": [
    {
     "name": "stdout",
     "output_type": "stream",
     "text": [
      "315 days remaining in the year\n"
     ]
    }
   ],
   "source": [
    "# [ ] Write a program to compute the number of days remaining in the current year\n",
    "\n",
    "from datetime import timedelta, date\n",
    "\n",
    "td = date.today()\n",
    "endofyear = td.replace(day=31, month=12)\n",
    "\n",
    "delta = endofyear - td\n",
    "\n",
    "print(delta.days, \"days remaining in the year\")"
   ]
  },
  {
   "cell_type": "markdown",
   "metadata": {},
   "source": [
    "### Comparing `datetime` objects"
   ]
  },
  {
   "cell_type": "code",
   "execution_count": 18,
   "metadata": {},
   "outputs": [
    {
     "name": "stdout",
     "output_type": "stream",
     "text": [
      "135 day(s), Until July 4\n"
     ]
    }
   ],
   "source": [
    "# [ ] Complete the program below to find out if July 4th is within 10 days of today's date,\n",
    "# if it is, find out if has passed or not\n",
    "\n",
    "from datetime import datetime\n",
    "\n",
    "# get today's date\n",
    "todays_date = datetime.today()\n",
    "\n",
    "# 4th of July of current year\n",
    "july_4th = datetime(month = 7, day = 4, year = todays_date.year)\n",
    "#july_4th = datetime(month = 2, day = 8, year = todays_date.year)\n",
    "\n",
    "days_difference = todays_date - july_4th\n",
    "days = days_difference.days\n",
    "\n",
    "if abs(days) <= 10:\n",
    "    if abs(days) < 0:\n",
    "        print(\"We have passed July 4\")\n",
    "    else:\n",
    "        print(\"Within 10 days of July 4\")\n",
    "else:\n",
    "    print(abs(days), \"day(s), Until July 4\")\n"
   ]
  },
  {
   "cell_type": "markdown",
   "metadata": {},
   "source": [
    "---\n",
    "<font size=\"6\" color=\"#B24C00\"  face=\"verdana\"> <B>Task 6</B></font>\n",
    "\n",
    "## File System\n"
   ]
  },
  {
   "cell_type": "markdown",
   "metadata": {},
   "source": [
    "### Directory operations"
   ]
  },
  {
   "cell_type": "code",
   "execution_count": 7,
   "metadata": {},
   "outputs": [
    {
     "name": "stdout",
     "output_type": "stream",
     "text": [
      "Current working directory: /home/nbuser/library\n",
      "Changing working dir to parent_dir\n",
      "Current working directory: /home/nbuser/library/parent_dir\n",
      "Current working directory: /home/nbuser/library/parent_dir/practice_1\n",
      "List contents in the current directory: ['practice_2']\n",
      "List contents in the current directory: ['sub_practice_2']\n",
      "Removed sub_practice_2 directory\n",
      "Current working directory: /home/nbuser/library/parent_dir\n",
      "List contents in the current directory: ['parent_leaf.txt', 'text_file.txt', 'practice_1', 'child2_dir', 'child1_dir']\n",
      "Removed 'practice_1' directory\n",
      "Current working directory: /home/nbuser/library/parent_dir\n",
      "List contents in the current directory: ['parent_leaf.txt', 'text_file.txt', 'child2_dir', 'child1_dir']\n"
     ]
    }
   ],
   "source": [
    "# [ ] Complete the following program to:\n",
    "# 1) navigate to `parent_dir` directory (if not already in it)\n",
    "# 2) create a new directory called `practice_1`\n",
    "# 3) change the working directory to `practice_1`\n",
    "# 4) display the current working directory to verify you are in the correct location\n",
    "# 5) create a new directory called `practice_2`\n",
    "# 6) verify that `practice_2` was created by listing the content of the current directory\n",
    "# 7) rename `practice_2` as `sub_practice_2`\n",
    "# 8) verify the name was successful changed by listing the content of the current directory\n",
    "# 9) remove `sub_practice_2`\n",
    "# 10) change working directory to the parent directory using `..`\n",
    "# 11) remove `practice_1`\n",
    "# 12) verify your current working directory and display its content\n",
    "\n",
    "import os, os.path\n",
    "\n",
    "os.chdir(\"/home/nbuser/library\")\n",
    "\n",
    "print(\"Current working directory:\", os.getcwd())\n",
    "\n",
    "# 1) navigate to `parent_dir` directory (if not already in it)\n",
    "if('parent_dir' not in os.getcwd()):\n",
    "    # Changing the current working directory to parent dir\n",
    "    print(\"Changing working dir to parent_dir\")\n",
    "    os.chdir('parent_dir')\n",
    "    print(\"Current working directory:\", os.getcwd())\n",
    "\n",
    "# 2) create a new directory called `practice_1`\n",
    "if \"practice_1\" not in os.listdir():    \n",
    "    os.mkdir(\"practice_1\")\n",
    "    \n",
    "# 3) change the working directory to `practice_1`\n",
    "if \"practice_1\" not in os.getcwd():\n",
    "    os.chdir(\"practice_1\")\n",
    "\n",
    "\n",
    "# 4) display the current working directory to verify you are in the correct location\n",
    "print(\"Current working directory:\", os.getcwd())\n",
    "\n",
    "# 5) create a new directory called `practice_2`\n",
    "if \"practice_2\" not in os.listdir():\n",
    "    os.mkdir(\"practice_2\")\n",
    "\n",
    "\n",
    "# 6) verify that `practice_2` was created by listing the content of the current directory\n",
    "print(\"List contents in the current directory:\", os.listdir())\n",
    "\n",
    "# 7) rename `practice_2` as `sub_practice_2`\n",
    "\n",
    "if \"practice_2\" in os.listdir():\n",
    "    os.rename(\"practice_2\", \"sub_practice_2\")\n",
    "\n",
    "\n",
    "# 8) verify the name was successful changed by listing the content of the current directory\n",
    "print(\"List contents in the current directory:\", os.listdir())\n",
    "\n",
    "# 9) remove `sub_practice_2`\n",
    "if \"sub_practice_2\" in os.listdir():\n",
    "    os.rmdir(\"sub_practice_2\")\n",
    "    print(\"Removed sub_practice_2 directory\")\n",
    "\n",
    "\n",
    "# 10) change working directory to the parent directory using `..`\n",
    "os.chdir(\"..\")\n",
    "\n",
    "    \n",
    "# 11) remove `practice_1`\n",
    "print(\"Current working directory:\", os.getcwd())\n",
    "print(\"List contents in the current directory:\", os.listdir())\n",
    "if \"practice_1\" in os.listdir():\n",
    "    os.rmdir(\"practice_1\")\n",
    "    print(\"Removed 'practice_1' directory\")\n",
    "\n",
    "# 12) verify your current working directory and display its content\n",
    "print(\"Current working directory:\", os.getcwd())\n",
    "print(\"List contents in the current directory:\", os.listdir())\n",
    "\n",
    "\n"
   ]
  },
  {
   "cell_type": "markdown",
   "metadata": {},
   "source": [
    "### Path operations"
   ]
  },
  {
   "cell_type": "code",
   "execution_count": 15,
   "metadata": {},
   "outputs": [
    {
     "name": "stdout",
     "output_type": "stream",
     "text": [
      "Please enter a file or directory name to see if it exists: sss\n",
      "I can't find: sss in the current directory\n"
     ]
    }
   ],
   "source": [
    "# [ ] Write a program that prompts the user for a file or directory name\n",
    "# if it exists in the current working directory, it prints whether it is a file or directory\n",
    "\n",
    "filedir = input(\"Please enter a file or directory name to see if it exists: \")\n",
    "\n",
    "# if we want to walk all directories, use os.walk(...)\n",
    "if os.path.isfile(filedir):\n",
    "    print(\"You entered a file\")\n",
    "elif os.path.isdir(filedir):\n",
    "    print(\"You entered a directory\")\n",
    "else:\n",
    "    print(\"I can't find:\", filedir, \"in the current directory\")\n",
    "\n"
   ]
  },
  {
   "cell_type": "markdown",
   "metadata": {},
   "source": [
    "---\n",
    "<font size=\"6\" color=\"#B24C00\"  face=\"verdana\"> <B>Module 1 Project</B></font>\n",
    "\n",
    "## Directory creator\n",
    "\n"
   ]
  },
  {
   "cell_type": "code",
   "execution_count": 22,
   "metadata": {},
   "outputs": [
    {
     "name": "stdout",
     "output_type": "stream",
     "text": [
      "moved up /home/nbuser/library/parent_dir\n",
      "The current working directory is: /home/nbuser/library/parent_dir\n",
      "Changing working dir to randoms_directory\n",
      "The current working directory is: /home/nbuser/library/parent_dir/randoms_directory\n",
      "Current directory content: ['02_19_18_33261', '02_19_18_41702', '02_19_18_37136', '02_19_18_17997', '02_19_18_12841', '02_19_18_45610', '02_19_18_33237', '02_19_18_47812', '02_19_18_13833', '02_19_18_12096', '02_19_18_46358', '02_19_18_26445']\n"
     ]
    }
   ],
   "source": [
    "# [ ] The following program is designed to generate a number of directories.\n",
    "# The directory names follow the pattern (MM_DD_YY_randnum), where:\n",
    "#     - MM_DD_YY: is today's date as month/day/year\n",
    "#     - randnum: is a random integer between 10000 and 50000\n",
    "# For example, if today is May 12th, 2016, then the following would be valid names: 05_12_16_11050 or 05_12_16_15001\n",
    "#\n",
    "# For this task, you should complete the functions:\n",
    "# 1) `directory_count()`\n",
    "# 2) `name_generator()`\n",
    "# 3) `directory_creator(name)`\n",
    "# 4) `create()`\n",
    "#\n",
    "# HINT: You should import all necessary modules\n",
    "from datetime import datetime, time\n",
    "import math as mth\n",
    "import os\n",
    "import random\n",
    "\n",
    "def directory_count():\n",
    "    \"\"\"\n",
    "    Calculate the number of directories to be generated.\n",
    "    \n",
    "    I) Get the current minute using appropriate functionality from `datetime`\n",
    "    II) Take the square root of ..the current minute + 15\n",
    "    III) Round the square root to an integer\n",
    "    VI) return the rounded number as the number of directories to be created\n",
    "    \n",
    "    args: \n",
    "          NONE\n",
    "    \n",
    "    returns: \n",
    "         `dir_count`: number of directories to be created \n",
    "    \"\"\"\n",
    "    dt = datetime.today()\n",
    "    numdir = mth.floor(mth.sqrt(dt.minute + 15))\n",
    "    return numdir\n",
    "    \n",
    "\n",
    "def name_generator():\n",
    "    \"\"\"\n",
    "    Generate a single directory name using the pattern (MM_DD_YY_randnum).\n",
    "    \n",
    "    args:\n",
    "         NONE\n",
    "    \n",
    "    returns:\n",
    "         `dir_name`: string containing a valid directory name\n",
    "    \"\"\"\n",
    "    num = random.randint(10000, 50000)    \n",
    "    dt = datetime.today()\n",
    "    dirname = dt.strftime(\"%m_%d_%y_\") + str(num)\n",
    "\n",
    "    return dirname\n",
    "\n",
    "\n",
    "def directory_creator(name):\n",
    "    \"\"\"\n",
    "    Create a single directory called `name` in the current working directory.\n",
    "    \n",
    "    args:\n",
    "         name: directory to be created\n",
    "    \n",
    "    returns:\n",
    "         NONE\n",
    "    \"\"\"\n",
    "    os.mkdir(name)\n",
    "    \n",
    "\n",
    "def create():\n",
    "    \"\"\"\n",
    "    Generate the necessary directories.\n",
    "    \n",
    "    Use `directory_count` to calculate the number of directories, then use `directory_creator` and `name_generator`.\n",
    "\n",
    "    args:\n",
    "         NONE\n",
    "    \n",
    "    returns:\n",
    "         NONE\n",
    "    \"\"\"\n",
    "    numberofdirectories = directory_count()\n",
    "    newdir = 0\n",
    "    while newdir < numberofdirectories:\n",
    "        newdir += 1\n",
    "        name = name_generator()\n",
    "        directory_creator(name)\n",
    "    \n",
    "    \n",
    "    \n",
    "\n",
    "# Change working directory to `parent_dir` or `create`\n",
    "if(\"parent_dir\" not in os.getcwd()):\n",
    "    if os.path.exists(\"./parent_dir\"):\n",
    "        print(\"Changing working dir to parent_dir\")\n",
    "        os.chdir(\"parent_dir\")\n",
    "    else:\n",
    "        os.mkdir(os.getcwd() + \"./parent_dir\")\n",
    "        print(\"Changing working dir to parent_dir\")\n",
    "        os.chdir(\"parent_dir\")\n",
    "else:\n",
    "    # so the code can run multiple times \n",
    "    # while directory not ending with 'parent_dir' move up the path ..\\\n",
    "    while \"parent_dir\" not in os.getcwd()[-11:]:\n",
    "        # move up in dir to find 'parent_dir'\n",
    "        os.chdir(\"..\")\n",
    "        print(\"moved up\", os.getcwd())\n",
    "        \n",
    "# print the current working directory (should be \"parent_dir\")\n",
    "print(\"The current working directory is:\", os.getcwd())\n",
    "\n",
    "# check for randoms_directory if not present, create new\n",
    "if os.path.exists(os.getcwd() + \"/randoms_directory\") != True:\n",
    "    os.mkdir(\"randoms_directory\")\n",
    "\n",
    "# change the current working directory to randoms_directory\n",
    "print(\"Changing working dir to randoms_directory\")\n",
    "os.chdir(\"randoms_directory\")\n",
    "# print the current working directory (should be \"randoms_dir\")\n",
    "print(\"The current working directory is:\", os.getcwd())\n",
    "\n",
    "# create directories inside \"randoms_directory\"\n",
    "create()\n",
    "    \n",
    "# list the content of the current directory\n",
    "print(\"Current directory content:\", os.listdir())\n",
    "\n",
    "\n"
   ]
  },
  {
   "cell_type": "code",
   "execution_count": 24,
   "metadata": {},
   "outputs": [
    {
     "name": "stdout",
     "output_type": "stream",
     "text": [
      "moved up /home/nbuser/library/parent_dir/randoms_directory\n",
      "moved up /home/nbuser/library/parent_dir\n",
      "The current working directory is: /home/nbuser/library/parent_dir/randoms_directory/test_required\n",
      "\n",
      "The created directories should be named MM_DD_YY_randnum - such as '03_22_19_17040'\n",
      "creating directory 02_19_18_27447\n",
      "creating directory 02_19_18_44066\n",
      "creating directory 02_19_18_31039\n",
      "Current directory content: ['02_19_18_44066', '02_19_18_31039', '02_19_18_27447']\n",
      "\n",
      "PASS: Contains 3 directories as expected. Be sure name_generator() & directory_creator() contain required keywords and functions.\n"
     ]
    }
   ],
   "source": [
    "# Test your code for the graded functions name_generator() & directory_creator()\n",
    "import os\n",
    "import shutil\n",
    "\n",
    "\n",
    "# Change working directory to `parent_dir` or `create`\n",
    "if(\"parent_dir\" not in os.getcwd()):\n",
    "    if os.path.exists(\"./parent_dir\"):\n",
    "        print(\"Changing working dir to parent_dir\")\n",
    "        os.chdir(\"parent_dir\")\n",
    "    else:\n",
    "        os.mkdir(os.getcwd() + \"./parent_dir\")\n",
    "        print(\"Changing working dir to parent_dir\")\n",
    "        os.chdir(\"parent_dir\")\n",
    "else:\n",
    "    # so the code can run multiple times \n",
    "    # while directory not ending with 'parent_dir' move up the path ..\\\n",
    "    while \"parent_dir\" not in os.getcwd()[-11:]:\n",
    "        # move up in dir to find 'parent_dir'\n",
    "        os.chdir(\"..\")\n",
    "        print(\"moved up\", os.getcwd())\n",
    "        \n",
    "   \n",
    "if os.path.exists(os.getcwd() + \"/randoms_directory\") != True:\n",
    "    os.mkdir(\"randoms_directory\")\n",
    "os.chdir(\"randoms_directory\")\n",
    "    \n",
    "if os.path.exists(os.getcwd() + \"/test_required\") == True:\n",
    "    # delete the test_required directory\n",
    "    shutil.rmtree(\"/home/nbuser/library/parent_dir/randoms_directory/test_required\")\n",
    "# create and move to Test_required\n",
    "os.mkdir(\"test_required\")\n",
    "os.chdir(\"test_required\")\n",
    "\n",
    "# print the current working directory (should be \"parent_dir\")\n",
    "print(\"The current working directory is:\", os.getcwd())\n",
    "print(\"\\nThe created directories should be named MM_DD_YY_randnum - such as '03_22_19_17040'\")\n",
    "\n",
    "# TEST*** test name_generator & directory_creator() by creating 3 directories ***TEST\n",
    "for i in range(3):\n",
    "    dir_name = name_generator()\n",
    "    print(\"creating directory\", dir_name)\n",
    "    directory_creator(dir_name)\n",
    "\n",
    "\n",
    "# list the content of the current directory\n",
    "print(\"Current directory content:\", os.listdir())\n",
    "\n",
    "# Check if TEST created 3 directories\n",
    "num_dir = len(os.listdir())\n",
    "\n",
    "if num_dir == 3:\n",
    "    print(\"\\nPASS: Contains 3 directories as expected. Be sure name_generator() & directory_creator() contain required keywords and functions.\")     \n",
    "else:\n",
    "    print(\"\\nFAIL: Should contain 3 directories, contains\", num_dir )"
   ]
  },
  {
   "cell_type": "code",
   "execution_count": null,
   "metadata": {},
   "outputs": [],
   "source": []
  }
 ],
 "metadata": {
  "kernelspec": {
   "display_name": "Python 3.6",
   "language": "python",
   "name": "python36"
  },
  "language_info": {
   "codemirror_mode": {
    "name": "ipython",
    "version": 3
   },
   "file_extension": ".py",
   "mimetype": "text/x-python",
   "name": "python",
   "nbconvert_exporter": "python",
   "pygments_lexer": "ipython3",
   "version": "3.6.3"
  }
 },
 "nbformat": 4,
 "nbformat_minor": 2
}
