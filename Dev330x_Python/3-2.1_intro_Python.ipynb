{
 "cells": [
  {
   "cell_type": "markdown",
   "metadata": {},
   "source": [
    "# Section 2.1: Boolean Expressions and Compound Conditionals\n",
    "* and, or, not\n",
    "* if\n",
    "\n",
    "### Students will be able to: \n",
    "* Describe the fundamental Boolean operators (and, or, not)\n",
    "* Use Boolean operators to combine comparisons\n",
    "* Recognize that different Boolean expressions can yield equal results\n",
    "* Employ combined comparisons to control program flow (i.e. `if` statements)\n"
   ]
  },
  {
   "cell_type": "markdown",
   "metadata": {},
   "source": [
    "---\n",
    "<font size=\"6\" color=\"#00A0B2\"  face=\"verdana\"> <B>Concepts</B></font>  \n",
    "\n",
    "\n",
    "## Boolean Operators\n",
    "\n",
    "[![view video](https://iajupyterprodblobs.blob.core.windows.net/imagecontainer/common/play_video.png)](https://www.youtube.com/watch?v=4VYGElXvaD0)\n",
    "\n",
    "#### `bool` data type\n",
    "Adding two numbers in Python results in another number; however, if two numbers were compared (i.e. to test for equality), the result would be of Boolean (`bool`) type. Unlike `int` and `float`, which can take many values, `bool` has only two values `True` and `False`. \n",
    "\n",
    "```python\n",
    "In [1]: 5 == 6\n",
    "Out[1]: False\n",
    "\n",
    "In [2]: 5 <= 6\n",
    "Out[2]: True\n",
    "```\n",
    "\n",
    "Comparing `string` variables or numerical variables is performed using relational operators, the following table lists the relational operators supported in Python\n",
    "\n",
    "| Operator | Description |\n",
    "|----------|-------------|\n",
    "| < | Less than|\n",
    "| <=| Less than or equal to|\n",
    "| > | Greater than|\n",
    "| >= | Greater than or equal to|\n",
    "| == | Equal to|\n",
    "|!= | Not equal to|\n",
    "\n",
    "#### Fundamental `bool` operators\n",
    "In addition to supporting numerical operators (+, -, &times; ...), Python also supports Boolean operators. The three basic Boolean operators are: `not`, `and`, `or`.\n",
    "\n",
    "##### `not`\n",
    "Is a unary operator; it operates on one variable (operand) by negating it. The following truth table shows the result of negating a `bool` variable `B`.\n",
    "\n",
    "|`B`|`not B`|\n",
    "|---|-------|\n",
    "|False| True|\n",
    "|True|False|\n",
    "\n",
    "##### `and`\n",
    "Is a binary operator; it operates on two variables (operands). It produces `True` when both variables are `True` and produces `False` otherwise. The following truth table shows the effect of the `and` operator on combining `A` and `B`.\n",
    "\n",
    "|`A`|`B`|`A and B`|\n",
    "|---|---|---------|\n",
    "|False|False|False|\n",
    "|False|True|False|\n",
    "|True|False|False|\n",
    "|True|True|True|\n",
    "\n",
    "##### `or`\n",
    "Is a binary operator; it operates on two variables (operands). It produces `True` if either (or both) of the variables is `True` and produces `False` otherwise. The following truth table shows the effect of `or` on combining `A` and `B`.\n",
    "\n",
    "|`A`|`B`|`A or B`|\n",
    "|---|---|---------|\n",
    "|False|False|False|\n",
    "|False|True|True|\n",
    "|True|False|True|\n",
    "|True|True|True|\n",
    "\n",
    "These operators are typically used to combine relational expressions rather than the constants `True` and `False`. This will allow you to construct more powerful conditional statements (i.e. `if` statements).\n",
    "\n",
    "NOTE: `not` has the highest precedence, followed by `and`, then `or`. Similar to arithmetic operators, you can control the precedence using the parentheses operator `()` to group relational expressions."
   ]
  },
  {
   "cell_type": "markdown",
   "metadata": {},
   "source": [
    "---\n",
    "<font size=\"6\" color=\"#00A0B2\"  face=\"verdana\"> <B>Examples</B></font>\n",
    "\n",
    "### not"
   ]
  },
  {
   "cell_type": "code",
   "execution_count": 1,
   "metadata": {},
   "outputs": [
    {
     "name": "stdout",
     "output_type": "stream",
     "text": [
      "not True =  False\n",
      "not False =  True\n"
     ]
    }
   ],
   "source": [
    "# not operator\n",
    "print(\"not True = \", not True)\n",
    "print(\"not False = \", not False)"
   ]
  },
  {
   "cell_type": "markdown",
   "metadata": {},
   "source": [
    "### `and`"
   ]
  },
  {
   "cell_type": "code",
   "execution_count": 2,
   "metadata": {},
   "outputs": [
    {
     "name": "stdout",
     "output_type": "stream",
     "text": [
      "False and False =  False\n",
      "False and True =  False\n",
      "True and False =  False\n",
      "True and True =  True\n"
     ]
    }
   ],
   "source": [
    "# and operator\n",
    "print(\"False and False = \", False and False)\n",
    "print(\"False and True = \", False and True)\n",
    "print(\"True and False = \", True and False)\n",
    "print(\"True and True = \", True and True)"
   ]
  },
  {
   "cell_type": "markdown",
   "metadata": {},
   "source": [
    "### `or`"
   ]
  },
  {
   "cell_type": "code",
   "execution_count": 3,
   "metadata": {},
   "outputs": [
    {
     "name": "stdout",
     "output_type": "stream",
     "text": [
      "False or False =  False\n",
      "False or True =  True\n",
      "True or False =  True\n",
      "True or True =  True\n"
     ]
    }
   ],
   "source": [
    "# or operator\n",
    "print(\"False or False = \", False or False)\n",
    "print(\"False or True = \", False or True)\n",
    "print(\"True or False = \", True or False)\n",
    "print(\"True or True = \", True or True)"
   ]
  },
  {
   "cell_type": "markdown",
   "metadata": {},
   "source": [
    "### Combining operators"
   ]
  },
  {
   "cell_type": "code",
   "execution_count": 4,
   "metadata": {},
   "outputs": [
    {
     "name": "stdout",
     "output_type": "stream",
     "text": [
      "True and not False = True\n",
      "False or not True =  False\n"
     ]
    }
   ],
   "source": [
    "print(\"True and not False =\", True and not False)\n",
    "print(\"False or not True = \", False or not True)"
   ]
  },
  {
   "cell_type": "markdown",
   "metadata": {},
   "source": [
    "---\n",
    "<font size=\"6\" color=\"#B24C00\"  face=\"verdana\"> <B>Task 1</B></font>\n",
    "\n",
    "## Boolean Operators"
   ]
  },
  {
   "cell_type": "markdown",
   "metadata": {},
   "source": [
    "### Boolean values (`True`, `False`)"
   ]
  },
  {
   "cell_type": "code",
   "execution_count": 6,
   "metadata": {},
   "outputs": [
    {
     "name": "stdout",
     "output_type": "stream",
     "text": [
      "True\n",
      "True\n",
      "True\n",
      "False\n",
      "False\n",
      "y and not y = False\n",
      "y and y = 17\n",
      "y or y =  17\n",
      "34\n",
      "True\n"
     ]
    }
   ],
   "source": [
    "# [ ] Use relational and/or arithmetic operators with the variables x and y to write:\n",
    "# 3 expressions that evaluate to True (i.e. x >= y)\n",
    "# 3 expressions that evaluate to False (i.e. x <= y)\n",
    "\n",
    "x = 84\n",
    "y = 17\n",
    "\n",
    "print(x >= y)\n",
    "print(y <= x)\n",
    "print(x + y > x)\n",
    "\n",
    "print(x and y > x)\n",
    "print((y or x) > y)\n",
    "\n",
    "print(\"y and not y =\", y and not y)\n",
    "print(\"y and y =\", y and y) # 17\n",
    "print(\"y or y = \", y or y)\n",
    "\n",
    "print(y + y)\n",
    "print(y == y)"
   ]
  },
  {
   "cell_type": "markdown",
   "metadata": {},
   "source": [
    "### Boolean operators (`not`, `and`, `or`)"
   ]
  },
  {
   "cell_type": "code",
   "execution_count": 34,
   "metadata": {},
   "outputs": [
    {
     "name": "stdout",
     "output_type": "stream",
     "text": [
      "True\n",
      "True\n",
      "True\n",
      "True\n",
      "True\n",
      "False\n",
      "False\n",
      "False\n",
      "False\n"
     ]
    }
   ],
   "source": [
    "# [ ] Use the basic Boolean operators with the variables x and y to write:\n",
    "# 3 expressions that evaluate to True (i.e. not y)\n",
    "# 3 expressions that evaluate to False (i.e. x and y)\n",
    "\n",
    "x = True\n",
    "y = False\n",
    "\n",
    "print(not not x)\n",
    "print(x and x)\n",
    "print(not y)\n",
    "print(y or x)\n",
    "print(x or y)\n",
    "\n",
    "\n",
    "print(y and y)\n",
    "print(not x)\n",
    "print(y and x)\n",
    "print(x and y)\n"
   ]
  },
  {
   "cell_type": "markdown",
   "metadata": {},
   "source": [
    "---\n",
    "<font size=\"6\" color=\"#00A0B2\"  face=\"verdana\"> <B>Concepts</B></font>  \n",
    "\n",
    "\n",
    "## Combining Comparisons\n",
    "\n",
    "[![view video](https://iajupyterprodblobs.blob.core.windows.net/imagecontainer/common/play_video.png)](https://www.youtube.com/watch?v=cKuGBIgyhsE)\n",
    "\n",
    "The basic `bool` operators can be used to combine multiple relational tests. For example, say you want to test whether a variable `x` contains a number within a certain range (i.e. 10 &leq; x &leq; 20). You can perform this test, by checking whether the number is greater than or equal to 10 and whether the number is less than or equal to 20.\n",
    "\n",
    "```python\n",
    "In [1]: x = 11\n",
    "In [2]: (x >= 10) and (x <= 20)\n",
    "Out[2]: True\n",
    "\n",
    "In [3]: x = 9\n",
    "In [4]: (x >= 10) and (x <= 20)\n",
    "Out[4]: False\n",
    "```\n",
    "\n",
    "The relational tests need not be numerical. For example, you can test whether a variable `c` contains a capital letter (i.e. 'A' &leq; c &leq; 'Z').\n",
    "\n",
    "```python\n",
    "In [1]: c = 'N'\n",
    "In [2]: (c >= 'A') and (c <= 'Z')\n",
    "Out[2]: True\n",
    "\n",
    "In [3]: c = 'n'\n",
    "In [4]: (c >= 'A') and (c <= 'Z')\n",
    "Out[4]: False\n",
    "```"
   ]
  },
  {
   "cell_type": "markdown",
   "metadata": {},
   "source": [
    "---\n",
    "<font size=\"6\" color=\"#00A0B2\"  face=\"verdana\"> <B>Examples</B></font>\n",
    "\n",
    "### Testing whether a number is outside a range\n"
   ]
  },
  {
   "cell_type": "code",
   "execution_count": 35,
   "metadata": {},
   "outputs": [
    {
     "data": {
      "text/plain": [
       "False"
      ]
     },
     "execution_count": 35,
     "metadata": {},
     "output_type": "execute_result"
    }
   ],
   "source": [
    "# Testing if x is outside the range [10, 20]\n",
    "\n",
    "x = 11\n",
    "(x < 10) or (x > 20)\n"
   ]
  },
  {
   "cell_type": "code",
   "execution_count": 36,
   "metadata": {},
   "outputs": [
    {
     "data": {
      "text/plain": [
       "True"
      ]
     },
     "execution_count": 36,
     "metadata": {},
     "output_type": "execute_result"
    }
   ],
   "source": [
    "# Testing if x is outside the range [10, 20]\n",
    "\n",
    "x = 50\n",
    "(x < 10) or (x > 20)\n"
   ]
  },
  {
   "cell_type": "markdown",
   "metadata": {},
   "source": [
    "### Testing whether a number is positive and odd\n",
    "You can combine relational operators, arithmetic operators, and Boolean operators to generate powerful Boolean expressions. In this example, you will test whether a number is both positive and odd."
   ]
  },
  {
   "cell_type": "code",
   "execution_count": 7,
   "metadata": {},
   "outputs": [
    {
     "data": {
      "text/plain": [
       "True"
      ]
     },
     "execution_count": 7,
     "metadata": {},
     "output_type": "execute_result"
    }
   ],
   "source": [
    "# Testing if x is a positive and odd number\n",
    "\n",
    "x = 11\n",
    "(x > 0) and (x % 2 != 0)"
   ]
  },
  {
   "cell_type": "code",
   "execution_count": 8,
   "metadata": {},
   "outputs": [
    {
     "data": {
      "text/plain": [
       "False"
      ]
     },
     "execution_count": 8,
     "metadata": {},
     "output_type": "execute_result"
    }
   ],
   "source": [
    "# Testing if x is a positive and odd number\n",
    "\n",
    "x = -11\n",
    "(x > 0) and (x % 2 != 0)"
   ]
  },
  {
   "cell_type": "code",
   "execution_count": 9,
   "metadata": {},
   "outputs": [
    {
     "data": {
      "text/plain": [
       "False"
      ]
     },
     "execution_count": 9,
     "metadata": {},
     "output_type": "execute_result"
    }
   ],
   "source": [
    "# Testing if x is a positive and odd number\n",
    "\n",
    "x = 22\n",
    "(x > 0) and (x % 2 != 0)"
   ]
  },
  {
   "cell_type": "markdown",
   "metadata": {},
   "source": [
    "### Testing using 2 different variables\n",
    "You can combine Boolean expressions of different variables. In this example, you will test whether a driver's name starts with the letter `C` and she is 18 years or younger."
   ]
  },
  {
   "cell_type": "code",
   "execution_count": 10,
   "metadata": {},
   "outputs": [
    {
     "data": {
      "text/plain": [
       "True"
      ]
     },
     "execution_count": 10,
     "metadata": {},
     "output_type": "execute_result"
    }
   ],
   "source": [
    "# Driver information\n",
    "name = 'Colette'\n",
    "age = 17\n",
    "\n",
    "# Testing if name starts with `C` and the age is 18 or less\n",
    "(name.startswith('C')) and (age <= 18)"
   ]
  },
  {
   "cell_type": "code",
   "execution_count": 11,
   "metadata": {},
   "outputs": [
    {
     "data": {
      "text/plain": [
       "False"
      ]
     },
     "execution_count": 11,
     "metadata": {},
     "output_type": "execute_result"
    }
   ],
   "source": [
    "# Driver information\n",
    "name = 'John'\n",
    "age = 17\n",
    "\n",
    "# Testing if name starts with `C` and the age is 18 or less\n",
    "(name.startswith('C')) and (age <= 18)"
   ]
  },
  {
   "cell_type": "markdown",
   "metadata": {},
   "source": [
    "---\n",
    "<font size=\"6\" color=\"#B24C00\"  face=\"verdana\"> <B>Task 2</B></font>\n",
    "\n",
    "## Combining Comparisons"
   ]
  },
  {
   "cell_type": "code",
   "execution_count": 17,
   "metadata": {},
   "outputs": [
    {
     "name": "stdout",
     "output_type": "stream",
     "text": [
      "True\n",
      "False\n",
      "True\n",
      "False\n"
     ]
    }
   ],
   "source": [
    "# [ ] Write an expression to test if x is an even number outside the range [-100, 100]\n",
    "\n",
    "# Test your expression with:\n",
    "x = 104  #(True)\n",
    "print((x < -100 or x > 100) and x % 2 == 0)\n",
    "\n",
    "x = 115  #(False)\n",
    "print((x < -100 or x > 100) and x % 2 == 0)\n",
    "\n",
    "x = -106 #(True)\n",
    "print((x < -100 or x > 100) and x % 2 == 0)\n",
    "\n",
    "x = -99  #(False)\n",
    "print((x < -100 or x > 100) and x % 2 == 0)\n"
   ]
  },
  {
   "cell_type": "code",
   "execution_count": 26,
   "metadata": {},
   "outputs": [
    {
     "name": "stdout",
     "output_type": "stream",
     "text": [
      "True\n",
      "False\n"
     ]
    }
   ],
   "source": [
    "# [ ] Write an expression to test if a string s starts and ends with a capital letter\n",
    "# HINT: You might find the function `str.isupper()` useful\n",
    "s = \"CapitaL\"\n",
    "print(str.isupper(s[:1]) and str.isupper(s[-1:]))\n",
    "s = \"Not Capital\"\n",
    "print(str.isupper(s[:1]) and str.isupper(s[-1:]))\n"
   ]
  },
  {
   "cell_type": "code",
   "execution_count": 30,
   "metadata": {},
   "outputs": [
    {
     "name": "stdout",
     "output_type": "stream",
     "text": [
      "float(s) 39.0\n",
      "True\n",
      "False\n"
     ]
    }
   ],
   "source": [
    "# [ ] Write an expression to test if a string s contains a numerical value\n",
    "# then test if the value is greater than the value stored in x\n",
    "# HINT: Use the functions `s.isnumeric()` and `float(s)`\n",
    "\n",
    "# Test your expression with\n",
    "s = \"39\"\n",
    "x = 24\n",
    "# Expression should yield True\n",
    "print(\"float(s)\", float(s))\n",
    "print(s.isnumeric() and float(s) > x)\n",
    "\n",
    "\n",
    "s = \"a39\"\n",
    "x = 24\n",
    "# Expression should yield False\n",
    "print(s.isnumeric() and float(s) > x)\n"
   ]
  },
  {
   "cell_type": "markdown",
   "metadata": {},
   "source": [
    "---\n",
    "<font size=\"6\" color=\"#00A0B2\"  face=\"verdana\"> <B>Concepts</B></font>  \n",
    "\n",
    "\n",
    "## Boolean Expressions Equality\n",
    "\n",
    "[![view video](https://iajupyterprodblobs.blob.core.windows.net/imagecontainer/common/play_video.png)](https://www.youtube.com/watch?v=NTXm_Ovq0xI)\n",
    "\n",
    "It is possible to write two (or more) different Boolean expressions that yield the same results. Let's revisit the example testing whether x is within the range [10, 20]."
   ]
  },
  {
   "cell_type": "markdown",
   "metadata": {},
   "source": [
    "---\n",
    "<font size=\"6\" color=\"#00A0B2\"  face=\"verdana\"> <B>Examples</B></font>\n",
    "\n",
    "### Expression 1: Test whether `x` is within [10, 20]"
   ]
  },
  {
   "cell_type": "code",
   "execution_count": 31,
   "metadata": {},
   "outputs": [
    {
     "data": {
      "text/plain": [
       "True"
      ]
     },
     "execution_count": 31,
     "metadata": {},
     "output_type": "execute_result"
    }
   ],
   "source": [
    "x = 11\n",
    "(x >= 10) and (x <= 20)"
   ]
  },
  {
   "cell_type": "code",
   "execution_count": 32,
   "metadata": {},
   "outputs": [
    {
     "data": {
      "text/plain": [
       "False"
      ]
     },
     "execution_count": 32,
     "metadata": {},
     "output_type": "execute_result"
    }
   ],
   "source": [
    "x = 30\n",
    "(x >= 10) and (x <= 20)"
   ]
  },
  {
   "cell_type": "markdown",
   "metadata": {},
   "source": [
    "### Expression 2: Test whether `x` is within [10, 20]"
   ]
  },
  {
   "cell_type": "code",
   "execution_count": 33,
   "metadata": {},
   "outputs": [
    {
     "data": {
      "text/plain": [
       "True"
      ]
     },
     "execution_count": 33,
     "metadata": {},
     "output_type": "execute_result"
    }
   ],
   "source": [
    "x = 11\n",
    "not((x < 10) or (x > 20))"
   ]
  },
  {
   "cell_type": "code",
   "execution_count": 34,
   "metadata": {},
   "outputs": [
    {
     "data": {
      "text/plain": [
       "False"
      ]
     },
     "execution_count": 34,
     "metadata": {},
     "output_type": "execute_result"
    }
   ],
   "source": [
    "x = 30\n",
    "not((x < 10) or (x > 20))"
   ]
  },
  {
   "cell_type": "markdown",
   "metadata": {},
   "source": [
    "---\n",
    "<font size=\"6\" color=\"#B24C00\"  face=\"verdana\"> <B>Task 3</B></font>\n",
    "\n",
    "## Boolean Expressions Equality"
   ]
  },
  {
   "cell_type": "code",
   "execution_count": 39,
   "metadata": {},
   "outputs": [
    {
     "name": "stdout",
     "output_type": "stream",
     "text": [
      "False\n",
      "True\n"
     ]
    }
   ],
   "source": [
    "# [ ] Write an expression equivalent to the one below \n",
    "# to test if x is outside the range [10, 20] (seen in a previous example)\n",
    "\n",
    "# (x < 10) or (x > 20)\n",
    "\n",
    "# Test your expression with \n",
    "x = 11  # (False)\n",
    "print(not((x > 10) and (x < 20)))\n",
    "x = 50  # (True)\n",
    "print(not((x > 10) and (x < 20)))\n"
   ]
  },
  {
   "cell_type": "code",
   "execution_count": 45,
   "metadata": {},
   "outputs": [
    {
     "name": "stdout",
     "output_type": "stream",
     "text": [
      "True\n",
      "False\n",
      "True\n",
      "False\n"
     ]
    }
   ],
   "source": [
    "# [ ] Write a second expression to test if x is an even number outside the range [-100, 100]\n",
    "# Do NOT use the expression you wrote for a previous exercise\n",
    "\n",
    "# Test your expression with:\n",
    "x = 104    # (True)\n",
    "print(not(x > -100 and x < 100) and x % 2 == 0)\n",
    "\n",
    "x = 115  # (False)\n",
    "print(not((x > -100) and (x < 100)) and x % 2 == 0)\n",
    "\n",
    "x = -106 # (True)\n",
    "print(not(x > -100 and x < 100) and x % 2 == 0)\n",
    "\n",
    "x = -99  # (False)\n",
    "print(not(x > -100 and x < 100) and x % 2 == 0)\n"
   ]
  },
  {
   "cell_type": "markdown",
   "metadata": {},
   "source": [
    "---\n",
    "<font size=\"6\" color=\"#00A0B2\"  face=\"verdana\"> <B>Concepts</B></font>  \n",
    "\n",
    "\n",
    "## Compound Conditionals\n",
    "\n",
    "[![view video](https://iajupyterprodblobs.blob.core.windows.net/imagecontainer/common/play_video.png)](https://www.youtube.com/watch?v=H0Htg7SGaSI)\n",
    "\n",
    "\n",
    "Combined Boolean expressions can be used within the testing conditions of `if` and `elif` statements. This will let you write compound conditionals and give you fine control over the program flow. For example, you can test the validity of user input against several combined conditions. Similarly, you can also check the content of a variable against multiple ranges."
   ]
  },
  {
   "cell_type": "markdown",
   "metadata": {},
   "source": [
    "---\n",
    "<font size=\"6\" color=\"#00A0B2\"  face=\"verdana\"> <B>Examples</B></font>\n",
    "\n",
    "### Testing validity of user input"
   ]
  },
  {
   "cell_type": "code",
   "execution_count": 47,
   "metadata": {},
   "outputs": [
    {
     "name": "stdout",
     "output_type": "stream",
     "text": [
      "Enter an odd positive number: 9\n",
      "9 is a valid number\n"
     ]
    }
   ],
   "source": [
    "# Solicit user input\n",
    "x = input(\"Enter an odd positive number: \")\n",
    "\n",
    "# Convert the string input into int\n",
    "x = int(x)\n",
    "\n",
    "# Test number for validity\n",
    "if ((x > 0) and (x % 2 != 0)):\n",
    "    print(x, \"is a valid number\")\n",
    "else:\n",
    "    print(x, \"is NOT a valid number\")"
   ]
  },
  {
   "cell_type": "markdown",
   "metadata": {},
   "source": [
    "### Testing inclusion in a range"
   ]
  },
  {
   "cell_type": "code",
   "execution_count": 48,
   "metadata": {},
   "outputs": [
    {
     "name": "stdout",
     "output_type": "stream",
     "text": [
      "Enter your birth year: 1963\n",
      "You were born before 1970!\n"
     ]
    }
   ],
   "source": [
    "# Solicit user input\n",
    "y = input(\"Enter your birth year: \")\n",
    "\n",
    "# Convert the string input into int\n",
    "y = int(y)\n",
    "\n",
    "# Check the decade membership\n",
    "if (y < 1970):\n",
    "    print(\"You were born before 1970!\")\n",
    "elif (y >= 1970 and y < 1980):\n",
    "    print(\"You were born in the 70s!\")\n",
    "elif (y >= 1980 and y < 1990):\n",
    "    print(\"You were born in the 80s!\")\n",
    "elif (y >= 1990 and y < 2000):\n",
    "    print(\"You were born in the 90s!\")\n",
    "elif (y >= 2000 and y < 2010):\n",
    "    print(\"You were born in early 2000s!\")\n",
    "else:\n",
    "    print(\"You were born in the current decade!\")"
   ]
  },
  {
   "cell_type": "markdown",
   "metadata": {},
   "source": [
    "---\n",
    "<font size=\"6\" color=\"#B24C00\"  face=\"verdana\"> <B>Task 4</B></font>\n",
    "\n",
    "## Compound Conditionals"
   ]
  },
  {
   "cell_type": "code",
   "execution_count": 50,
   "metadata": {},
   "outputs": [
    {
     "name": "stdout",
     "output_type": "stream",
     "text": [
      "Enter a value less than 0 or greater than 100: -5\n",
      "You enter a correct number.\n"
     ]
    }
   ],
   "source": [
    "# [ ] Write a program to validate that user input is outside the range [0, 100]\n",
    "\n",
    "x = input(\"Enter a value less than 0 or greater than 100: \")\n",
    "x = int(x)\n",
    "\n",
    "if x > 0 and x < 100:\n",
    "    print(\"Invalid, the number you entered falls in between 0 and 100\")\n",
    "elif x < 0 or x > 100:\n",
    "    print(\"You enter a correct number.\")\n",
    "else:\n",
    "    print(x)"
   ]
  },
  {
   "cell_type": "markdown",
   "metadata": {},
   "source": [
    "\n",
    "### BMI category \n",
    "The Body Mass Index (BMI) measures the body fat using the weight and height of a person. The BMI is used to classify adults into categories as in the following table.\n",
    "\n",
    "|Category|BMI range|\n",
    "|--------|---------|\n",
    "|Underweight| < 18.5|\n",
    "|Normal Weight| 18.5 - 24.9|\n",
    "|Overweight|25 - 29.9|\n",
    "|Obese| &geq; 30|\n"
   ]
  },
  {
   "cell_type": "code",
   "execution_count": 55,
   "metadata": {},
   "outputs": [
    {
     "name": "stdout",
     "output_type": "stream",
     "text": [
      "Please enter your BMI: 25\n",
      "Overweight\n"
     ]
    }
   ],
   "source": [
    "# [ ] Write a program to ask a user for her/his BMI index, then display the user's BMI category\n",
    "\n",
    "w = float(input(\"Please enter your BMI: \"))\n",
    "\n",
    "if w < 18.5:\n",
    "    print(\"Underweight\")\n",
    "elif w >= 18.5 and w <= 24.9:\n",
    "    print(\"Normal weight\")\n",
    "elif w >= 25 and w <= 29.9:\n",
    "    print(\"Overweight\")\n",
    "elif w >= 30:\n",
    "    print(\"Obese\")\n"
   ]
  },
  {
   "cell_type": "code",
   "execution_count": null,
   "metadata": {},
   "outputs": [],
   "source": []
  }
 ],
 "metadata": {
  "kernelspec": {
   "display_name": "Python 3",
   "language": "python",
   "name": "python3"
  },
  "language_info": {
   "codemirror_mode": {
    "name": "ipython",
    "version": 3
   },
   "file_extension": ".py",
   "mimetype": "text/x-python",
   "name": "python",
   "nbconvert_exporter": "python",
   "pygments_lexer": "ipython3",
   "version": "3.5.4"
  }
 },
 "nbformat": 4,
 "nbformat_minor": 2
}
